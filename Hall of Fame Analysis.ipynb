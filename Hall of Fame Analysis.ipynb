{
 "cells": [
  {
   "cell_type": "code",
   "execution_count": 1,
   "metadata": {
    "ExecuteTime": {
     "end_time": "2016-12-28T16:46:22.888586",
     "start_time": "2016-12-28T16:46:12.786512"
    },
    "collapsed": false
   },
   "outputs": [
    {
     "name": "stdout",
     "output_type": "stream",
     "text": [
      "Populating the interactive namespace from numpy and matplotlib\n"
     ]
    }
   ],
   "source": [
    "import pandas as pd\n",
    "import numpy as np\n",
    "import seaborn as sns\n",
    "\n",
    "from IPython.display import display\n",
    "\n",
    "%pylab inline\n",
    "pd.set_option('display.max_columns', None)"
   ]
  },
  {
   "cell_type": "code",
   "execution_count": 7,
   "metadata": {
    "ExecuteTime": {
     "end_time": "2016-12-28T16:49:14.582597",
     "start_time": "2016-12-28T16:49:14.424832"
    },
    "collapsed": false
   },
   "outputs": [
    {
     "data": {
      "text/html": [
       "<div>\n",
       "<table border=\"1\" class=\"dataframe\">\n",
       "  <thead>\n",
       "    <tr style=\"text-align: right;\">\n",
       "      <th></th>\n",
       "      <th>playerID</th>\n",
       "      <th>nameFirst</th>\n",
       "      <th>nameLast</th>\n",
       "      <th>yearid</th>\n",
       "      <th>votedBy</th>\n",
       "      <th>ballots</th>\n",
       "      <th>needed</th>\n",
       "      <th>votes</th>\n",
       "      <th>inducted</th>\n",
       "      <th>category</th>\n",
       "      <th>needed_note</th>\n",
       "    </tr>\n",
       "  </thead>\n",
       "  <tbody>\n",
       "    <tr>\n",
       "      <th>0</th>\n",
       "      <td>cobbty01</td>\n",
       "      <td>Ty</td>\n",
       "      <td>Cobb</td>\n",
       "      <td>1936</td>\n",
       "      <td>BBWAA</td>\n",
       "      <td>226.0</td>\n",
       "      <td>170.0</td>\n",
       "      <td>222.0</td>\n",
       "      <td>Y</td>\n",
       "      <td>Player</td>\n",
       "      <td>NaN</td>\n",
       "    </tr>\n",
       "    <tr>\n",
       "      <th>1</th>\n",
       "      <td>ruthba01</td>\n",
       "      <td>Babe</td>\n",
       "      <td>Ruth</td>\n",
       "      <td>1936</td>\n",
       "      <td>BBWAA</td>\n",
       "      <td>226.0</td>\n",
       "      <td>170.0</td>\n",
       "      <td>215.0</td>\n",
       "      <td>Y</td>\n",
       "      <td>Player</td>\n",
       "      <td>NaN</td>\n",
       "    </tr>\n",
       "    <tr>\n",
       "      <th>2</th>\n",
       "      <td>wagneho01</td>\n",
       "      <td>Honus</td>\n",
       "      <td>Wagner</td>\n",
       "      <td>1936</td>\n",
       "      <td>BBWAA</td>\n",
       "      <td>226.0</td>\n",
       "      <td>170.0</td>\n",
       "      <td>215.0</td>\n",
       "      <td>Y</td>\n",
       "      <td>Player</td>\n",
       "      <td>NaN</td>\n",
       "    </tr>\n",
       "    <tr>\n",
       "      <th>3</th>\n",
       "      <td>wagneho01</td>\n",
       "      <td>Honus</td>\n",
       "      <td>Wagner</td>\n",
       "      <td>1936</td>\n",
       "      <td>Veterans</td>\n",
       "      <td>78.0</td>\n",
       "      <td>59.0</td>\n",
       "      <td>5.0</td>\n",
       "      <td>N</td>\n",
       "      <td>Player</td>\n",
       "      <td>NaN</td>\n",
       "    </tr>\n",
       "    <tr>\n",
       "      <th>4</th>\n",
       "      <td>mathech01</td>\n",
       "      <td>Christy</td>\n",
       "      <td>Mathewson</td>\n",
       "      <td>1936</td>\n",
       "      <td>BBWAA</td>\n",
       "      <td>226.0</td>\n",
       "      <td>170.0</td>\n",
       "      <td>205.0</td>\n",
       "      <td>Y</td>\n",
       "      <td>Player</td>\n",
       "      <td>NaN</td>\n",
       "    </tr>\n",
       "  </tbody>\n",
       "</table>\n",
       "</div>"
      ],
      "text/plain": [
       "    playerID nameFirst   nameLast  yearid   votedBy  ballots  needed  votes  \\\n",
       "0   cobbty01        Ty       Cobb    1936     BBWAA    226.0   170.0  222.0   \n",
       "1   ruthba01      Babe       Ruth    1936     BBWAA    226.0   170.0  215.0   \n",
       "2  wagneho01     Honus     Wagner    1936     BBWAA    226.0   170.0  215.0   \n",
       "3  wagneho01     Honus     Wagner    1936  Veterans     78.0    59.0    5.0   \n",
       "4  mathech01   Christy  Mathewson    1936     BBWAA    226.0   170.0  205.0   \n",
       "\n",
       "  inducted category needed_note  \n",
       "0        Y   Player         NaN  \n",
       "1        Y   Player         NaN  \n",
       "2        Y   Player         NaN  \n",
       "3        N   Player         NaN  \n",
       "4        Y   Player         NaN  "
      ]
     },
     "execution_count": 7,
     "metadata": {},
     "output_type": "execute_result"
    }
   ],
   "source": [
    "# Augment Hall of Fame data with name information.\n",
    "\n",
    "hof_df = pd.read_csv('baseballdatabank-master/core/HallOfFame.csv')\n",
    "master_df = pd.read_csv('baseballdatabank-master/core/Master.csv')\n",
    "\n",
    "hof_cols = ['playerID', 'nameFirst', 'nameLast'] + list(hof_df.columns[1:]) \n",
    "\n",
    "hof_df = hof_df.merge(master_df, on='playerID')\n",
    "hof_df = hof_df[hof_cols]\n",
    "\n",
    "hof_df.head()"
   ]
  },
  {
   "cell_type": "code",
   "execution_count": 14,
   "metadata": {
    "ExecuteTime": {
     "end_time": "2016-12-28T16:50:38.820098",
     "start_time": "2016-12-28T16:50:38.793707"
    },
    "collapsed": false
   },
   "outputs": [
    {
     "data": {
      "text/plain": [
       "(1188, 11)"
      ]
     },
     "metadata": {},
     "output_type": "display_data"
    }
   ],
   "source": [
    "player_votes = hof_df.loc[(hof_df.category == 'Player')]\n",
    "inducted_players = hof_df.loc[(hof_df.inducted == 'Y') & (hof_df.category == 'Player')]\n",
    "\n",
    "non_inducted_ids = set(player_votes.playerID).difference(inducted_players.playerID)\n",
    "\n",
    "non_inducted_players = player_votes.loc[hof_df.playerID.isin(non_inducted_ids)]\n",
    "non_inducted_players = non_inducted_players.groupby('playerID', as_index=False).last()\n",
    "\n",
    "nominated_players = inducted_players.append(non_inducted_players, ignore_index=True)\n",
    "display(nominated_players.shape)"
   ]
  },
  {
   "cell_type": "code",
   "execution_count": 16,
   "metadata": {
    "ExecuteTime": {
     "end_time": "2016-12-28T16:50:57.559461",
     "start_time": "2016-12-28T16:50:57.553655"
    },
    "collapsed": false
   },
   "outputs": [
    {
     "data": {
      "text/plain": [
       "(1188,)"
      ]
     },
     "execution_count": 16,
     "metadata": {},
     "output_type": "execute_result"
    }
   ],
   "source": []
  },
  {
   "cell_type": "code",
   "execution_count": null,
   "metadata": {
    "collapsed": true
   },
   "outputs": [],
   "source": []
  }
 ],
 "metadata": {
  "kernelspec": {
   "display_name": "Python [conda env:DAND]",
   "language": "python",
   "name": "conda-env-DAND-py"
  },
  "language_info": {
   "codemirror_mode": {
    "name": "ipython",
    "version": 2
   },
   "file_extension": ".py",
   "mimetype": "text/x-python",
   "name": "python",
   "nbconvert_exporter": "python",
   "pygments_lexer": "ipython2",
   "version": "2.7.12"
  }
 },
 "nbformat": 4,
 "nbformat_minor": 2
}
