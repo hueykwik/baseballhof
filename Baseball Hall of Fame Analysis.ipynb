{
 "cells": [
  {
   "cell_type": "markdown",
   "metadata": {},
   "source": [
    "# Overview\n",
    "\n",
    "What separates Hall of Fame baseball players from the rest? In particular, I was curious about what features separate Hall of Fame players versus the ones who were nominated but inducted. \n",
    "\n",
    "In other words, what separates the Hall of Fame from the Hall of Very Good?"
   ]
  },
  {
   "cell_type": "code",
   "execution_count": 1,
   "metadata": {
    "ExecuteTime": {
     "end_time": "2016-12-31T14:21:32.340770",
     "start_time": "2016-12-31T14:21:31.212756"
    },
    "collapsed": false
   },
   "outputs": [],
   "source": [
    "import pandas as pd\n",
    "import numpy as np\n",
    "import seaborn as sns\n",
    "\n",
    "from IPython.display import display\n",
    "\n",
    "%matplotlib inline\n",
    "pd.set_option('display.max_columns', None)"
   ]
  },
  {
   "cell_type": "markdown",
   "metadata": {},
   "source": [
    "We use the Hall of Fame dataset to see who was inducted or not and merge with the Master set so we can see the players names."
   ]
  },
  {
   "cell_type": "markdown",
   "metadata": {},
   "source": [
    "# Data Wrangling\n",
    "* Merge in Master to get names\n",
    "* Merge in Award stats\n",
    "* Merge in Appearances\n",
    "* Merge in Pitching stats\n",
    "* Merge in Batting stats\n",
    "* Merge in Fielding stats"
   ]
  },
  {
   "cell_type": "markdown",
   "metadata": {},
   "source": [
    "## Master"
   ]
  },
  {
   "cell_type": "code",
   "execution_count": 2,
   "metadata": {
    "ExecuteTime": {
     "end_time": "2016-12-31T14:21:33.973486",
     "start_time": "2016-12-31T14:21:33.805502"
    },
    "collapsed": false
   },
   "outputs": [
    {
     "data": {
      "text/html": [
       "<div>\n",
       "<table border=\"1\" class=\"dataframe\">\n",
       "  <thead>\n",
       "    <tr style=\"text-align: right;\">\n",
       "      <th></th>\n",
       "      <th>playerID</th>\n",
       "      <th>nameFirst</th>\n",
       "      <th>nameLast</th>\n",
       "      <th>yearid</th>\n",
       "      <th>votedBy</th>\n",
       "      <th>ballots</th>\n",
       "      <th>needed</th>\n",
       "      <th>votes</th>\n",
       "      <th>inducted</th>\n",
       "      <th>category</th>\n",
       "      <th>needed_note</th>\n",
       "    </tr>\n",
       "  </thead>\n",
       "  <tbody>\n",
       "    <tr>\n",
       "      <th>0</th>\n",
       "      <td>cobbty01</td>\n",
       "      <td>Ty</td>\n",
       "      <td>Cobb</td>\n",
       "      <td>1936</td>\n",
       "      <td>BBWAA</td>\n",
       "      <td>226.0</td>\n",
       "      <td>170.0</td>\n",
       "      <td>222.0</td>\n",
       "      <td>Y</td>\n",
       "      <td>Player</td>\n",
       "      <td>NaN</td>\n",
       "    </tr>\n",
       "    <tr>\n",
       "      <th>1</th>\n",
       "      <td>ruthba01</td>\n",
       "      <td>Babe</td>\n",
       "      <td>Ruth</td>\n",
       "      <td>1936</td>\n",
       "      <td>BBWAA</td>\n",
       "      <td>226.0</td>\n",
       "      <td>170.0</td>\n",
       "      <td>215.0</td>\n",
       "      <td>Y</td>\n",
       "      <td>Player</td>\n",
       "      <td>NaN</td>\n",
       "    </tr>\n",
       "    <tr>\n",
       "      <th>2</th>\n",
       "      <td>wagneho01</td>\n",
       "      <td>Honus</td>\n",
       "      <td>Wagner</td>\n",
       "      <td>1936</td>\n",
       "      <td>BBWAA</td>\n",
       "      <td>226.0</td>\n",
       "      <td>170.0</td>\n",
       "      <td>215.0</td>\n",
       "      <td>Y</td>\n",
       "      <td>Player</td>\n",
       "      <td>NaN</td>\n",
       "    </tr>\n",
       "    <tr>\n",
       "      <th>3</th>\n",
       "      <td>wagneho01</td>\n",
       "      <td>Honus</td>\n",
       "      <td>Wagner</td>\n",
       "      <td>1936</td>\n",
       "      <td>Veterans</td>\n",
       "      <td>78.0</td>\n",
       "      <td>59.0</td>\n",
       "      <td>5.0</td>\n",
       "      <td>N</td>\n",
       "      <td>Player</td>\n",
       "      <td>NaN</td>\n",
       "    </tr>\n",
       "    <tr>\n",
       "      <th>4</th>\n",
       "      <td>mathech01</td>\n",
       "      <td>Christy</td>\n",
       "      <td>Mathewson</td>\n",
       "      <td>1936</td>\n",
       "      <td>BBWAA</td>\n",
       "      <td>226.0</td>\n",
       "      <td>170.0</td>\n",
       "      <td>205.0</td>\n",
       "      <td>Y</td>\n",
       "      <td>Player</td>\n",
       "      <td>NaN</td>\n",
       "    </tr>\n",
       "  </tbody>\n",
       "</table>\n",
       "</div>"
      ],
      "text/plain": [
       "    playerID nameFirst   nameLast  yearid   votedBy  ballots  needed  votes  \\\n",
       "0   cobbty01        Ty       Cobb    1936     BBWAA    226.0   170.0  222.0   \n",
       "1   ruthba01      Babe       Ruth    1936     BBWAA    226.0   170.0  215.0   \n",
       "2  wagneho01     Honus     Wagner    1936     BBWAA    226.0   170.0  215.0   \n",
       "3  wagneho01     Honus     Wagner    1936  Veterans     78.0    59.0    5.0   \n",
       "4  mathech01   Christy  Mathewson    1936     BBWAA    226.0   170.0  205.0   \n",
       "\n",
       "  inducted category needed_note  \n",
       "0        Y   Player         NaN  \n",
       "1        Y   Player         NaN  \n",
       "2        Y   Player         NaN  \n",
       "3        N   Player         NaN  \n",
       "4        Y   Player         NaN  "
      ]
     },
     "execution_count": 2,
     "metadata": {},
     "output_type": "execute_result"
    }
   ],
   "source": [
    "hof_df = pd.read_csv('baseballdatabank-master/core/HallOfFame.csv')\n",
    "master_df = pd.read_csv('baseballdatabank-master/core/Master.csv', parse_dates=['debut', 'finalGame'])\n",
    "\n",
    "hof_cols = ['playerID', 'nameFirst', 'nameLast'] + list(hof_df.columns[1:]) \n",
    "\n",
    "hof_df = hof_df.merge(master_df, on='playerID')\n",
    "hof_df = hof_df[hof_cols]\n",
    "\n",
    "hof_df.head()"
   ]
  },
  {
   "cell_type": "markdown",
   "metadata": {},
   "source": [
    "Since each row in the Hall of Fame set reflects a voting record, we group by playerID to remove duplicate rows. We end up with a single data frame of players, where the `inducted` field marks whether or not they are in the Hall of Fame.\n",
    "\n",
    "There are 247 inducted players and 941 non-inducted players in this dataset."
   ]
  },
  {
   "cell_type": "code",
   "execution_count": 3,
   "metadata": {
    "ExecuteTime": {
     "end_time": "2016-12-31T14:21:36.678624",
     "start_time": "2016-12-31T14:21:36.652466"
    },
    "collapsed": false
   },
   "outputs": [
    {
     "name": "stdout",
     "output_type": "stream",
     "text": [
      "# of Inducted Players: 247\n",
      "# of Non-Inducted Players: 941\n"
     ]
    },
    {
     "data": {
      "text/plain": [
       "(1188, 11)"
      ]
     },
     "metadata": {},
     "output_type": "display_data"
    }
   ],
   "source": [
    "player_votes = hof_df.loc[(hof_df.category == 'Player')]\n",
    "inducted_players = hof_df.loc[(hof_df.inducted == 'Y') & (hof_df.category == 'Player')]\n",
    "\n",
    "non_inducted_ids = set(player_votes.playerID).difference(inducted_players.playerID)\n",
    "\n",
    "non_inducted_players = player_votes.loc[hof_df.playerID.isin(non_inducted_ids)]\n",
    "non_inducted_players = non_inducted_players.groupby('playerID', as_index=False).last()\n",
    "\n",
    "print(\"# of Inducted Players: %d\" % inducted_players.shape[0])\n",
    "print(\"# of Non-Inducted Players: %d\" % non_inducted_players.shape[0])\n",
    "\n",
    "nominated_players = inducted_players.append(non_inducted_players, ignore_index=True)\n",
    "display(nominated_players.shape)"
   ]
  },
  {
   "cell_type": "markdown",
   "metadata": {},
   "source": [
    "## Awards\n",
    "We add in Awards players won over the course of their career. It seems plausible that awards would be correlated with entrance into the Hall."
   ]
  },
  {
   "cell_type": "code",
   "execution_count": 5,
   "metadata": {
    "ExecuteTime": {
     "end_time": "2016-12-31T14:21:02.646840",
     "start_time": "2016-12-31T14:21:02.420437"
    },
    "collapsed": false
   },
   "outputs": [
    {
     "data": {
      "text/html": [
       "<div>\n",
       "<table border=\"1\" class=\"dataframe\">\n",
       "  <thead>\n",
       "    <tr style=\"text-align: right;\">\n",
       "      <th></th>\n",
       "      <th>playerID</th>\n",
       "      <th>nameFirst</th>\n",
       "      <th>nameLast</th>\n",
       "      <th>yearid</th>\n",
       "      <th>votedBy</th>\n",
       "      <th>ballots</th>\n",
       "      <th>needed</th>\n",
       "      <th>votes</th>\n",
       "      <th>inducted</th>\n",
       "      <th>category</th>\n",
       "      <th>needed_note</th>\n",
       "      <th>ALCS MVP_x</th>\n",
       "      <th>All-Star Game MVP_x</th>\n",
       "      <th>Babe Ruth Award_x</th>\n",
       "      <th>Baseball Magazine All-Star_x</th>\n",
       "      <th>Branch Rickey Award_x</th>\n",
       "      <th>Comeback Player of the Year_x</th>\n",
       "      <th>Cy Young Award_x</th>\n",
       "      <th>Gold Glove_x</th>\n",
       "      <th>Hank Aaron Award_x</th>\n",
       "      <th>Hutch Award_x</th>\n",
       "      <th>Lou Gehrig Memorial Award_x</th>\n",
       "      <th>Most Valuable Player_x</th>\n",
       "      <th>NLCS MVP_x</th>\n",
       "      <th>Pitching Triple Crown_x</th>\n",
       "      <th>Roberto Clemente Award_x</th>\n",
       "      <th>Rolaids Relief Man Award_x</th>\n",
       "      <th>Rookie of the Year_x</th>\n",
       "      <th>Silver Slugger_x</th>\n",
       "      <th>TSN All-Star_x</th>\n",
       "      <th>TSN Fireman of the Year_x</th>\n",
       "      <th>TSN Guide MVP_x</th>\n",
       "      <th>TSN Major League Player of the Year_x</th>\n",
       "      <th>TSN Pitcher of the Year_x</th>\n",
       "      <th>TSN Player of the Year_x</th>\n",
       "      <th>TSN Reliever of the Year_x</th>\n",
       "      <th>Triple Crown_x</th>\n",
       "      <th>World Series MVP_x</th>\n",
       "      <th>Awards_x</th>\n",
       "      <th>ALCS MVP_y</th>\n",
       "      <th>All-Star Game MVP_y</th>\n",
       "      <th>Babe Ruth Award_y</th>\n",
       "      <th>Baseball Magazine All-Star_y</th>\n",
       "      <th>Branch Rickey Award_y</th>\n",
       "      <th>Comeback Player of the Year_y</th>\n",
       "      <th>Cy Young Award_y</th>\n",
       "      <th>Gold Glove_y</th>\n",
       "      <th>Hank Aaron Award_y</th>\n",
       "      <th>Hutch Award_y</th>\n",
       "      <th>Lou Gehrig Memorial Award_y</th>\n",
       "      <th>Most Valuable Player_y</th>\n",
       "      <th>NLCS MVP_y</th>\n",
       "      <th>Pitching Triple Crown_y</th>\n",
       "      <th>Roberto Clemente Award_y</th>\n",
       "      <th>Rolaids Relief Man Award_y</th>\n",
       "      <th>Rookie of the Year_y</th>\n",
       "      <th>Silver Slugger_y</th>\n",
       "      <th>TSN All-Star_y</th>\n",
       "      <th>TSN Fireman of the Year_y</th>\n",
       "      <th>TSN Guide MVP_y</th>\n",
       "      <th>TSN Major League Player of the Year_y</th>\n",
       "      <th>TSN Pitcher of the Year_y</th>\n",
       "      <th>TSN Player of the Year_y</th>\n",
       "      <th>TSN Reliever of the Year_y</th>\n",
       "      <th>Triple Crown_y</th>\n",
       "      <th>World Series MVP_y</th>\n",
       "      <th>Awards_y</th>\n",
       "    </tr>\n",
       "  </thead>\n",
       "  <tbody>\n",
       "    <tr>\n",
       "      <th>0</th>\n",
       "      <td>cobbty01</td>\n",
       "      <td>Ty</td>\n",
       "      <td>Cobb</td>\n",
       "      <td>1936</td>\n",
       "      <td>BBWAA</td>\n",
       "      <td>226.0</td>\n",
       "      <td>170.0</td>\n",
       "      <td>222.0</td>\n",
       "      <td>Y</td>\n",
       "      <td>Player</td>\n",
       "      <td>0</td>\n",
       "      <td>0.0</td>\n",
       "      <td>0.0</td>\n",
       "      <td>0.0</td>\n",
       "      <td>58.0</td>\n",
       "      <td>0.0</td>\n",
       "      <td>0.0</td>\n",
       "      <td>0.0</td>\n",
       "      <td>0.0</td>\n",
       "      <td>0.0</td>\n",
       "      <td>0.0</td>\n",
       "      <td>0.0</td>\n",
       "      <td>2.0</td>\n",
       "      <td>0.0</td>\n",
       "      <td>0.0</td>\n",
       "      <td>0.0</td>\n",
       "      <td>0.0</td>\n",
       "      <td>0.0</td>\n",
       "      <td>0.0</td>\n",
       "      <td>0.0</td>\n",
       "      <td>0.0</td>\n",
       "      <td>0.0</td>\n",
       "      <td>0.0</td>\n",
       "      <td>0.0</td>\n",
       "      <td>0.0</td>\n",
       "      <td>0.0</td>\n",
       "      <td>2.0</td>\n",
       "      <td>0.0</td>\n",
       "      <td>31.0</td>\n",
       "      <td>0.0</td>\n",
       "      <td>0.0</td>\n",
       "      <td>0.0</td>\n",
       "      <td>58.0</td>\n",
       "      <td>0.0</td>\n",
       "      <td>0.0</td>\n",
       "      <td>0.0</td>\n",
       "      <td>0.0</td>\n",
       "      <td>0.0</td>\n",
       "      <td>0.0</td>\n",
       "      <td>0.0</td>\n",
       "      <td>2.0</td>\n",
       "      <td>0.0</td>\n",
       "      <td>0.0</td>\n",
       "      <td>0.0</td>\n",
       "      <td>0.0</td>\n",
       "      <td>0.0</td>\n",
       "      <td>0.0</td>\n",
       "      <td>0.0</td>\n",
       "      <td>0.0</td>\n",
       "      <td>0.0</td>\n",
       "      <td>0.0</td>\n",
       "      <td>0.0</td>\n",
       "      <td>0.0</td>\n",
       "      <td>0.0</td>\n",
       "      <td>2.0</td>\n",
       "      <td>0.0</td>\n",
       "      <td>31.0</td>\n",
       "    </tr>\n",
       "    <tr>\n",
       "      <th>1</th>\n",
       "      <td>ruthba01</td>\n",
       "      <td>Babe</td>\n",
       "      <td>Ruth</td>\n",
       "      <td>1936</td>\n",
       "      <td>BBWAA</td>\n",
       "      <td>226.0</td>\n",
       "      <td>170.0</td>\n",
       "      <td>215.0</td>\n",
       "      <td>Y</td>\n",
       "      <td>Player</td>\n",
       "      <td>0</td>\n",
       "      <td>0.0</td>\n",
       "      <td>0.0</td>\n",
       "      <td>0.0</td>\n",
       "      <td>52.0</td>\n",
       "      <td>0.0</td>\n",
       "      <td>0.0</td>\n",
       "      <td>0.0</td>\n",
       "      <td>0.0</td>\n",
       "      <td>0.0</td>\n",
       "      <td>0.0</td>\n",
       "      <td>0.0</td>\n",
       "      <td>2.0</td>\n",
       "      <td>0.0</td>\n",
       "      <td>0.0</td>\n",
       "      <td>0.0</td>\n",
       "      <td>0.0</td>\n",
       "      <td>0.0</td>\n",
       "      <td>0.0</td>\n",
       "      <td>12.0</td>\n",
       "      <td>0.0</td>\n",
       "      <td>0.0</td>\n",
       "      <td>0.0</td>\n",
       "      <td>0.0</td>\n",
       "      <td>0.0</td>\n",
       "      <td>0.0</td>\n",
       "      <td>0.0</td>\n",
       "      <td>0.0</td>\n",
       "      <td>33.0</td>\n",
       "      <td>0.0</td>\n",
       "      <td>0.0</td>\n",
       "      <td>0.0</td>\n",
       "      <td>52.0</td>\n",
       "      <td>0.0</td>\n",
       "      <td>0.0</td>\n",
       "      <td>0.0</td>\n",
       "      <td>0.0</td>\n",
       "      <td>0.0</td>\n",
       "      <td>0.0</td>\n",
       "      <td>0.0</td>\n",
       "      <td>2.0</td>\n",
       "      <td>0.0</td>\n",
       "      <td>0.0</td>\n",
       "      <td>0.0</td>\n",
       "      <td>0.0</td>\n",
       "      <td>0.0</td>\n",
       "      <td>0.0</td>\n",
       "      <td>12.0</td>\n",
       "      <td>0.0</td>\n",
       "      <td>0.0</td>\n",
       "      <td>0.0</td>\n",
       "      <td>0.0</td>\n",
       "      <td>0.0</td>\n",
       "      <td>0.0</td>\n",
       "      <td>0.0</td>\n",
       "      <td>0.0</td>\n",
       "      <td>33.0</td>\n",
       "    </tr>\n",
       "    <tr>\n",
       "      <th>2</th>\n",
       "      <td>wagneho01</td>\n",
       "      <td>Honus</td>\n",
       "      <td>Wagner</td>\n",
       "      <td>1936</td>\n",
       "      <td>BBWAA</td>\n",
       "      <td>226.0</td>\n",
       "      <td>170.0</td>\n",
       "      <td>215.0</td>\n",
       "      <td>Y</td>\n",
       "      <td>Player</td>\n",
       "      <td>0</td>\n",
       "      <td>0.0</td>\n",
       "      <td>0.0</td>\n",
       "      <td>0.0</td>\n",
       "      <td>24.0</td>\n",
       "      <td>0.0</td>\n",
       "      <td>0.0</td>\n",
       "      <td>0.0</td>\n",
       "      <td>0.0</td>\n",
       "      <td>0.0</td>\n",
       "      <td>0.0</td>\n",
       "      <td>0.0</td>\n",
       "      <td>0.0</td>\n",
       "      <td>0.0</td>\n",
       "      <td>0.0</td>\n",
       "      <td>0.0</td>\n",
       "      <td>0.0</td>\n",
       "      <td>0.0</td>\n",
       "      <td>0.0</td>\n",
       "      <td>0.0</td>\n",
       "      <td>0.0</td>\n",
       "      <td>0.0</td>\n",
       "      <td>0.0</td>\n",
       "      <td>0.0</td>\n",
       "      <td>0.0</td>\n",
       "      <td>0.0</td>\n",
       "      <td>0.0</td>\n",
       "      <td>0.0</td>\n",
       "      <td>12.0</td>\n",
       "      <td>0.0</td>\n",
       "      <td>0.0</td>\n",
       "      <td>0.0</td>\n",
       "      <td>24.0</td>\n",
       "      <td>0.0</td>\n",
       "      <td>0.0</td>\n",
       "      <td>0.0</td>\n",
       "      <td>0.0</td>\n",
       "      <td>0.0</td>\n",
       "      <td>0.0</td>\n",
       "      <td>0.0</td>\n",
       "      <td>0.0</td>\n",
       "      <td>0.0</td>\n",
       "      <td>0.0</td>\n",
       "      <td>0.0</td>\n",
       "      <td>0.0</td>\n",
       "      <td>0.0</td>\n",
       "      <td>0.0</td>\n",
       "      <td>0.0</td>\n",
       "      <td>0.0</td>\n",
       "      <td>0.0</td>\n",
       "      <td>0.0</td>\n",
       "      <td>0.0</td>\n",
       "      <td>0.0</td>\n",
       "      <td>0.0</td>\n",
       "      <td>0.0</td>\n",
       "      <td>0.0</td>\n",
       "      <td>12.0</td>\n",
       "    </tr>\n",
       "    <tr>\n",
       "      <th>3</th>\n",
       "      <td>mathech01</td>\n",
       "      <td>Christy</td>\n",
       "      <td>Mathewson</td>\n",
       "      <td>1936</td>\n",
       "      <td>BBWAA</td>\n",
       "      <td>226.0</td>\n",
       "      <td>170.0</td>\n",
       "      <td>205.0</td>\n",
       "      <td>Y</td>\n",
       "      <td>Player</td>\n",
       "      <td>0</td>\n",
       "      <td>0.0</td>\n",
       "      <td>0.0</td>\n",
       "      <td>0.0</td>\n",
       "      <td>26.0</td>\n",
       "      <td>0.0</td>\n",
       "      <td>0.0</td>\n",
       "      <td>0.0</td>\n",
       "      <td>0.0</td>\n",
       "      <td>0.0</td>\n",
       "      <td>0.0</td>\n",
       "      <td>0.0</td>\n",
       "      <td>0.0</td>\n",
       "      <td>0.0</td>\n",
       "      <td>4.0</td>\n",
       "      <td>0.0</td>\n",
       "      <td>0.0</td>\n",
       "      <td>0.0</td>\n",
       "      <td>0.0</td>\n",
       "      <td>0.0</td>\n",
       "      <td>0.0</td>\n",
       "      <td>0.0</td>\n",
       "      <td>0.0</td>\n",
       "      <td>0.0</td>\n",
       "      <td>0.0</td>\n",
       "      <td>0.0</td>\n",
       "      <td>0.0</td>\n",
       "      <td>0.0</td>\n",
       "      <td>15.0</td>\n",
       "      <td>0.0</td>\n",
       "      <td>0.0</td>\n",
       "      <td>0.0</td>\n",
       "      <td>26.0</td>\n",
       "      <td>0.0</td>\n",
       "      <td>0.0</td>\n",
       "      <td>0.0</td>\n",
       "      <td>0.0</td>\n",
       "      <td>0.0</td>\n",
       "      <td>0.0</td>\n",
       "      <td>0.0</td>\n",
       "      <td>0.0</td>\n",
       "      <td>0.0</td>\n",
       "      <td>4.0</td>\n",
       "      <td>0.0</td>\n",
       "      <td>0.0</td>\n",
       "      <td>0.0</td>\n",
       "      <td>0.0</td>\n",
       "      <td>0.0</td>\n",
       "      <td>0.0</td>\n",
       "      <td>0.0</td>\n",
       "      <td>0.0</td>\n",
       "      <td>0.0</td>\n",
       "      <td>0.0</td>\n",
       "      <td>0.0</td>\n",
       "      <td>0.0</td>\n",
       "      <td>0.0</td>\n",
       "      <td>15.0</td>\n",
       "    </tr>\n",
       "    <tr>\n",
       "      <th>4</th>\n",
       "      <td>johnswa01</td>\n",
       "      <td>Walter</td>\n",
       "      <td>Johnson</td>\n",
       "      <td>1936</td>\n",
       "      <td>BBWAA</td>\n",
       "      <td>226.0</td>\n",
       "      <td>170.0</td>\n",
       "      <td>189.0</td>\n",
       "      <td>Y</td>\n",
       "      <td>Player</td>\n",
       "      <td>0</td>\n",
       "      <td>0.0</td>\n",
       "      <td>0.0</td>\n",
       "      <td>0.0</td>\n",
       "      <td>54.0</td>\n",
       "      <td>0.0</td>\n",
       "      <td>0.0</td>\n",
       "      <td>0.0</td>\n",
       "      <td>0.0</td>\n",
       "      <td>0.0</td>\n",
       "      <td>0.0</td>\n",
       "      <td>0.0</td>\n",
       "      <td>4.0</td>\n",
       "      <td>0.0</td>\n",
       "      <td>6.0</td>\n",
       "      <td>0.0</td>\n",
       "      <td>0.0</td>\n",
       "      <td>0.0</td>\n",
       "      <td>0.0</td>\n",
       "      <td>2.0</td>\n",
       "      <td>0.0</td>\n",
       "      <td>0.0</td>\n",
       "      <td>0.0</td>\n",
       "      <td>0.0</td>\n",
       "      <td>0.0</td>\n",
       "      <td>0.0</td>\n",
       "      <td>0.0</td>\n",
       "      <td>0.0</td>\n",
       "      <td>33.0</td>\n",
       "      <td>0.0</td>\n",
       "      <td>0.0</td>\n",
       "      <td>0.0</td>\n",
       "      <td>54.0</td>\n",
       "      <td>0.0</td>\n",
       "      <td>0.0</td>\n",
       "      <td>0.0</td>\n",
       "      <td>0.0</td>\n",
       "      <td>0.0</td>\n",
       "      <td>0.0</td>\n",
       "      <td>0.0</td>\n",
       "      <td>4.0</td>\n",
       "      <td>0.0</td>\n",
       "      <td>6.0</td>\n",
       "      <td>0.0</td>\n",
       "      <td>0.0</td>\n",
       "      <td>0.0</td>\n",
       "      <td>0.0</td>\n",
       "      <td>2.0</td>\n",
       "      <td>0.0</td>\n",
       "      <td>0.0</td>\n",
       "      <td>0.0</td>\n",
       "      <td>0.0</td>\n",
       "      <td>0.0</td>\n",
       "      <td>0.0</td>\n",
       "      <td>0.0</td>\n",
       "      <td>0.0</td>\n",
       "      <td>33.0</td>\n",
       "    </tr>\n",
       "  </tbody>\n",
       "</table>\n",
       "</div>"
      ],
      "text/plain": [
       "    playerID nameFirst   nameLast  yearid votedBy  ballots  needed  votes  \\\n",
       "0   cobbty01        Ty       Cobb    1936   BBWAA    226.0   170.0  222.0   \n",
       "1   ruthba01      Babe       Ruth    1936   BBWAA    226.0   170.0  215.0   \n",
       "2  wagneho01     Honus     Wagner    1936   BBWAA    226.0   170.0  215.0   \n",
       "3  mathech01   Christy  Mathewson    1936   BBWAA    226.0   170.0  205.0   \n",
       "4  johnswa01    Walter    Johnson    1936   BBWAA    226.0   170.0  189.0   \n",
       "\n",
       "  inducted category needed_note  ALCS MVP_x  All-Star Game MVP_x  \\\n",
       "0        Y   Player           0         0.0                  0.0   \n",
       "1        Y   Player           0         0.0                  0.0   \n",
       "2        Y   Player           0         0.0                  0.0   \n",
       "3        Y   Player           0         0.0                  0.0   \n",
       "4        Y   Player           0         0.0                  0.0   \n",
       "\n",
       "   Babe Ruth Award_x  Baseball Magazine All-Star_x  Branch Rickey Award_x  \\\n",
       "0                0.0                          58.0                    0.0   \n",
       "1                0.0                          52.0                    0.0   \n",
       "2                0.0                          24.0                    0.0   \n",
       "3                0.0                          26.0                    0.0   \n",
       "4                0.0                          54.0                    0.0   \n",
       "\n",
       "   Comeback Player of the Year_x  Cy Young Award_x  Gold Glove_x  \\\n",
       "0                            0.0               0.0           0.0   \n",
       "1                            0.0               0.0           0.0   \n",
       "2                            0.0               0.0           0.0   \n",
       "3                            0.0               0.0           0.0   \n",
       "4                            0.0               0.0           0.0   \n",
       "\n",
       "   Hank Aaron Award_x  Hutch Award_x  Lou Gehrig Memorial Award_x  \\\n",
       "0                 0.0            0.0                          0.0   \n",
       "1                 0.0            0.0                          0.0   \n",
       "2                 0.0            0.0                          0.0   \n",
       "3                 0.0            0.0                          0.0   \n",
       "4                 0.0            0.0                          0.0   \n",
       "\n",
       "   Most Valuable Player_x  NLCS MVP_x  Pitching Triple Crown_x  \\\n",
       "0                     2.0         0.0                      0.0   \n",
       "1                     2.0         0.0                      0.0   \n",
       "2                     0.0         0.0                      0.0   \n",
       "3                     0.0         0.0                      4.0   \n",
       "4                     4.0         0.0                      6.0   \n",
       "\n",
       "   Roberto Clemente Award_x  Rolaids Relief Man Award_x  Rookie of the Year_x  \\\n",
       "0                       0.0                         0.0                   0.0   \n",
       "1                       0.0                         0.0                   0.0   \n",
       "2                       0.0                         0.0                   0.0   \n",
       "3                       0.0                         0.0                   0.0   \n",
       "4                       0.0                         0.0                   0.0   \n",
       "\n",
       "   Silver Slugger_x  TSN All-Star_x  TSN Fireman of the Year_x  \\\n",
       "0               0.0             0.0                        0.0   \n",
       "1               0.0            12.0                        0.0   \n",
       "2               0.0             0.0                        0.0   \n",
       "3               0.0             0.0                        0.0   \n",
       "4               0.0             2.0                        0.0   \n",
       "\n",
       "   TSN Guide MVP_x  TSN Major League Player of the Year_x  \\\n",
       "0              0.0                                    0.0   \n",
       "1              0.0                                    0.0   \n",
       "2              0.0                                    0.0   \n",
       "3              0.0                                    0.0   \n",
       "4              0.0                                    0.0   \n",
       "\n",
       "   TSN Pitcher of the Year_x  TSN Player of the Year_x  \\\n",
       "0                        0.0                       0.0   \n",
       "1                        0.0                       0.0   \n",
       "2                        0.0                       0.0   \n",
       "3                        0.0                       0.0   \n",
       "4                        0.0                       0.0   \n",
       "\n",
       "   TSN Reliever of the Year_x  Triple Crown_x  World Series MVP_x  Awards_x  \\\n",
       "0                         0.0             2.0                 0.0      31.0   \n",
       "1                         0.0             0.0                 0.0      33.0   \n",
       "2                         0.0             0.0                 0.0      12.0   \n",
       "3                         0.0             0.0                 0.0      15.0   \n",
       "4                         0.0             0.0                 0.0      33.0   \n",
       "\n",
       "   ALCS MVP_y  All-Star Game MVP_y  Babe Ruth Award_y  \\\n",
       "0         0.0                  0.0                0.0   \n",
       "1         0.0                  0.0                0.0   \n",
       "2         0.0                  0.0                0.0   \n",
       "3         0.0                  0.0                0.0   \n",
       "4         0.0                  0.0                0.0   \n",
       "\n",
       "   Baseball Magazine All-Star_y  Branch Rickey Award_y  \\\n",
       "0                          58.0                    0.0   \n",
       "1                          52.0                    0.0   \n",
       "2                          24.0                    0.0   \n",
       "3                          26.0                    0.0   \n",
       "4                          54.0                    0.0   \n",
       "\n",
       "   Comeback Player of the Year_y  Cy Young Award_y  Gold Glove_y  \\\n",
       "0                            0.0               0.0           0.0   \n",
       "1                            0.0               0.0           0.0   \n",
       "2                            0.0               0.0           0.0   \n",
       "3                            0.0               0.0           0.0   \n",
       "4                            0.0               0.0           0.0   \n",
       "\n",
       "   Hank Aaron Award_y  Hutch Award_y  Lou Gehrig Memorial Award_y  \\\n",
       "0                 0.0            0.0                          0.0   \n",
       "1                 0.0            0.0                          0.0   \n",
       "2                 0.0            0.0                          0.0   \n",
       "3                 0.0            0.0                          0.0   \n",
       "4                 0.0            0.0                          0.0   \n",
       "\n",
       "   Most Valuable Player_y  NLCS MVP_y  Pitching Triple Crown_y  \\\n",
       "0                     2.0         0.0                      0.0   \n",
       "1                     2.0         0.0                      0.0   \n",
       "2                     0.0         0.0                      0.0   \n",
       "3                     0.0         0.0                      4.0   \n",
       "4                     4.0         0.0                      6.0   \n",
       "\n",
       "   Roberto Clemente Award_y  Rolaids Relief Man Award_y  Rookie of the Year_y  \\\n",
       "0                       0.0                         0.0                   0.0   \n",
       "1                       0.0                         0.0                   0.0   \n",
       "2                       0.0                         0.0                   0.0   \n",
       "3                       0.0                         0.0                   0.0   \n",
       "4                       0.0                         0.0                   0.0   \n",
       "\n",
       "   Silver Slugger_y  TSN All-Star_y  TSN Fireman of the Year_y  \\\n",
       "0               0.0             0.0                        0.0   \n",
       "1               0.0            12.0                        0.0   \n",
       "2               0.0             0.0                        0.0   \n",
       "3               0.0             0.0                        0.0   \n",
       "4               0.0             2.0                        0.0   \n",
       "\n",
       "   TSN Guide MVP_y  TSN Major League Player of the Year_y  \\\n",
       "0              0.0                                    0.0   \n",
       "1              0.0                                    0.0   \n",
       "2              0.0                                    0.0   \n",
       "3              0.0                                    0.0   \n",
       "4              0.0                                    0.0   \n",
       "\n",
       "   TSN Pitcher of the Year_y  TSN Player of the Year_y  \\\n",
       "0                        0.0                       0.0   \n",
       "1                        0.0                       0.0   \n",
       "2                        0.0                       0.0   \n",
       "3                        0.0                       0.0   \n",
       "4                        0.0                       0.0   \n",
       "\n",
       "   TSN Reliever of the Year_y  Triple Crown_y  World Series MVP_y  Awards_y  \n",
       "0                         0.0             2.0                 0.0      31.0  \n",
       "1                         0.0             0.0                 0.0      33.0  \n",
       "2                         0.0             0.0                 0.0      12.0  \n",
       "3                         0.0             0.0                 0.0      15.0  \n",
       "4                         0.0             0.0                 0.0      33.0  "
      ]
     },
     "execution_count": 5,
     "metadata": {},
     "output_type": "execute_result"
    }
   ],
   "source": [
    "awards = pd.read_csv(\"baseballdatabank-master/core/AwardsPlayers.csv\")\n",
    "\n",
    "award_count = awards.groupby('playerID').size().reset_index()\n",
    "award_count.columns = ['playerID', 'Awards']\n",
    "\n",
    "# Convert each award into a column, value will be the count.\n",
    "award_columns = awards[['playerID', 'awardID']].pivot_table(index='playerID', columns='awardID', \n",
    "                                                            aggfunc=np.count_nonzero, fill_value=0)\n",
    "\n",
    "nominated_players = pd.merge(nominated_players, award_columns.reset_index(), on='playerID', how='left')\n",
    "nominated_players = pd.merge(nominated_players, award_count, on='playerID', how='left')\n",
    "\n",
    "# Not all players will get awards, so fill missing values with 0. \n",
    "# Note: needed_note field will also get replaced, but I don't use this field, so it's okay.\n",
    "nominated_players.fillna(0, inplace=True)\n",
    "\n",
    "nominated_players.head()"
   ]
  },
  {
   "cell_type": "markdown",
   "metadata": {},
   "source": [
    "By looking at summary statistics and histograms, it seems like the average inducted player receives more awards than non-inducted players."
   ]
  },
  {
   "cell_type": "code",
   "execution_count": null,
   "metadata": {
    "ExecuteTime": {
     "end_time": "2016-12-31T14:06:26.449163",
     "start_time": "2016-12-31T14:06:26.420407"
    },
    "collapsed": false
   },
   "outputs": [],
   "source": [
    "display(nominated_players[nominated_players.inducted == 'Y'].Awards.describe())\n",
    "display(nominated_players[nominated_players.inducted == 'N'].Awards.describe())"
   ]
  },
  {
   "cell_type": "code",
   "execution_count": null,
   "metadata": {
    "ExecuteTime": {
     "end_time": "2016-12-31T14:06:27.896185",
     "start_time": "2016-12-31T14:06:27.890599"
    },
    "collapsed": true
   },
   "outputs": [],
   "source": [
    "def plot_awards(df, title, bins=10):\n",
    "    ax = df['Awards'].hist(bins=bins)\n",
    "    ax.set_xlabel(\"Number of Awards\")\n",
    "    ax.set_ylabel(\"Count\")\n",
    "    ax.set_title(title)"
   ]
  },
  {
   "cell_type": "code",
   "execution_count": null,
   "metadata": {
    "ExecuteTime": {
     "end_time": "2016-12-31T14:06:29.384198",
     "start_time": "2016-12-31T14:06:29.069093"
    },
    "collapsed": false
   },
   "outputs": [],
   "source": [
    "plot_awards(nominated_players[nominated_players.inducted == 'Y'], 'Inducted Players')"
   ]
  },
  {
   "cell_type": "code",
   "execution_count": null,
   "metadata": {
    "ExecuteTime": {
     "end_time": "2016-12-31T14:06:31.818748",
     "start_time": "2016-12-31T14:06:31.588184"
    },
    "collapsed": false
   },
   "outputs": [],
   "source": [
    "plot_awards(nominated_players[nominated_players.inducted == 'N'], 'Non-inducted Players')"
   ]
  },
  {
   "cell_type": "markdown",
   "metadata": {},
   "source": [
    "# Appearances\n",
    "Number of games played could approximate longevity."
   ]
  },
  {
   "cell_type": "code",
   "execution_count": null,
   "metadata": {
    "ExecuteTime": {
     "end_time": "2016-12-31T14:08:40.086694",
     "start_time": "2016-12-31T14:08:39.760116"
    },
    "collapsed": false
   },
   "outputs": [],
   "source": [
    "def cumulative_stats(csv_path, display_head=True, agg_dict=None):\n",
    "    df = pd.read_csv(csv_path)\n",
    "    \n",
    "    if display_head == True:\n",
    "        display(df.head())\n",
    "    \n",
    "    df_total = None\n",
    "    \n",
    "    if agg_dict is None:\n",
    "        df_total = df.groupby('playerID', as_index=False).sum()\n",
    "        del df_total['yearID']\n",
    "    else:\n",
    "        df_total = df.groupby('playerID', as_index=False).agg(agg_dict)\n",
    "    \n",
    "    return df_total\n",
    "\n",
    "# Merge with Appearances\n",
    "appearances_total = cumulative_stats(\"baseballdatabank-master/core/Appearances.csv\", display_head=False)\n",
    "appearances_total.fillna(0, inplace=True)\n",
    "\n",
    "appearances_total.head()"
   ]
  },
  {
   "cell_type": "markdown",
   "metadata": {},
   "source": [
    "We also use the appearances data to determine the player's most played position."
   ]
  },
  {
   "cell_type": "code",
   "execution_count": null,
   "metadata": {
    "ExecuteTime": {
     "end_time": "2016-12-31T14:09:45.911060",
     "start_time": "2016-12-31T14:09:45.798156"
    },
    "collapsed": false
   },
   "outputs": [],
   "source": [
    "nominated_players = pd.merge(nominated_players, appearances_total, on='playerID')\n",
    "\n",
    "position_cols = ['G_p','G_c','G_1b','G_2b',\n",
    "                 'G_3b','G_ss','G_lf','G_cf',\n",
    "                 'G_rf','G_of','G_dh','G_ph','G_pr']\n",
    "\n",
    "def most_played_position(df):\n",
    "    return df[position_cols].idxmax(axis=1).str.split('_').str[1].str.upper()\n",
    "\n",
    "nominated_players.insert(3, 'Position', most_played_position(nominated_players))\n",
    "display(nominated_players.head())"
   ]
  },
  {
   "cell_type": "code",
   "execution_count": null,
   "metadata": {
    "ExecuteTime": {
     "end_time": "2016-12-31T14:09:50.725150",
     "start_time": "2016-12-31T14:09:50.717242"
    },
    "collapsed": false
   },
   "outputs": [],
   "source": [
    "nominated_players.Position.value_counts()"
   ]
  },
  {
   "cell_type": "code",
   "execution_count": null,
   "metadata": {
    "ExecuteTime": {
     "end_time": "2016-12-31T14:09:52.921670",
     "start_time": "2016-12-31T14:09:52.909066"
    },
    "collapsed": false
   },
   "outputs": [],
   "source": [
    "display(nominated_players.loc[nominated_players.inducted == 'Y', 'Position'].value_counts())\n",
    "display(nominated_players.loc[nominated_players.inducted == 'N', 'Position'].value_counts())"
   ]
  },
  {
   "cell_type": "markdown",
   "metadata": {},
   "source": [
    "## Pitching"
   ]
  },
  {
   "cell_type": "code",
   "execution_count": null,
   "metadata": {
    "ExecuteTime": {
     "end_time": "2016-12-31T14:17:17.004166",
     "start_time": "2016-12-31T14:17:16.763133"
    },
    "collapsed": false
   },
   "outputs": [],
   "source": [
    "agg_dict = {'ERA': np.mean, 'W': np.sum}\n",
    "pitching_total = cumulative_stats(\"baseballdatabank-master/core/Pitching.csv\", \n",
    "                                  display_head=False,\n",
    "                                  agg_dict=agg_dict)\n",
    "\n",
    "nominated_players = pd.merge(nominated_players, pitching_total, on='playerID', how='left')"
   ]
  },
  {
   "cell_type": "markdown",
   "metadata": {},
   "source": [
    "## Batting"
   ]
  },
  {
   "cell_type": "code",
   "execution_count": null,
   "metadata": {
    "collapsed": true
   },
   "outputs": [],
   "source": [
    "# adding in hitting stats"
   ]
  },
  {
   "cell_type": "code",
   "execution_count": null,
   "metadata": {
    "ExecuteTime": {
     "end_time": "2016-12-31T14:18:57.165034",
     "start_time": "2016-12-31T14:18:57.153706"
    },
    "collapsed": true
   },
   "outputs": [],
   "source": [
    "def slugging_pct(df):\n",
    "    return ((df['H'] - df['2B'] - df['3B'] - df['HR']) + 2*df['2B'] + 3*df['3B'] + 4*df['HR']) / df['AB']\n",
    "\n",
    "def on_base_pct(df):\n",
    "    return (df['H'] + df['BB'] + df['HBP']) / (df['AB'] + df['BB'] + df['SF'] + df['HBP'])\n",
    "\n",
    "def on_base_plus_slugging(df):\n",
    "    return on_base_pct(df) + slugging_pct(df)\n",
    "\n",
    "def add_hitting_stats(df):\n",
    "    df['BA'] = df.H / df.AB\n",
    "    df['SLG'] = slugging_pct(df)\n",
    "    df['OBP'] = on_base_pct(df)\n",
    "    df['OPS'] = on_base_plus_slugging(df)"
   ]
  },
  {
   "cell_type": "code",
   "execution_count": null,
   "metadata": {
    "ExecuteTime": {
     "end_time": "2016-12-31T14:19:07.102476",
     "start_time": "2016-12-31T14:19:06.756287"
    },
    "collapsed": false
   },
   "outputs": [],
   "source": [
    "batting_total = cumulative_stats(\"baseballdatabank-master/core/Batting.csv\", \n",
    "                                  display_head=False)\n",
    "\n",
    "nominated_players = pd.merge(nominated_players, batting_total, on='playerID', how='left')\n",
    "\n",
    "nominated_players.fillna(0, inplace=True)\n",
    "\n",
    "add_hitting_stats(nominated_players)\n",
    "\n",
    "#nominated_pitchers['BA'] = non_pitchers.H / non_pitchers.AB\n",
    "#non_pitchers['SLG'] = slugging_pct(non_pitchers)\n",
    "#non_pitchers['OBP'] = on_base_pct(non_pitchers)\n",
    "#non_pitchers['OPS'] = on_base_plus_slugging(non_pitchers)"
   ]
  },
  {
   "cell_type": "code",
   "execution_count": null,
   "metadata": {
    "ExecuteTime": {
     "end_time": "2016-12-31T14:19:13.983577",
     "start_time": "2016-12-31T14:19:13.105255"
    },
    "collapsed": false
   },
   "outputs": [],
   "source": [
    "nominated_players"
   ]
  },
  {
   "cell_type": "markdown",
   "metadata": {},
   "source": [
    "# Analysis"
   ]
  },
  {
   "cell_type": "code",
   "execution_count": null,
   "metadata": {
    "ExecuteTime": {
     "end_time": "2016-12-31T14:09:54.563536",
     "start_time": "2016-12-31T14:09:54.556996"
    },
    "collapsed": true
   },
   "outputs": [],
   "source": [
    "# Convert inducted Y/N to numeric for corrplot later\n",
    "def convert_inducted_to_numeric(s):\n",
    "    if s == 'Y':\n",
    "        return 1\n",
    "    else:\n",
    "        return 0\n",
    "\n",
    "nominated_players['inducted'] = nominated_players['inducted'].apply(convert_inducted_to_numeric)"
   ]
  },
  {
   "cell_type": "code",
   "execution_count": null,
   "metadata": {
    "ExecuteTime": {
     "end_time": "2016-12-29T18:24:06.852390",
     "start_time": "2016-12-29T18:24:06.844311"
    },
    "collapsed": true
   },
   "outputs": [],
   "source": [
    "def corr_plot(corr):\n",
    "    # Generate a mask for the upper triangle\n",
    "    mask = np.zeros_like(corr, dtype=np.bool)\n",
    "    mask[np.triu_indices_from(mask)] = True\n",
    "\n",
    "    # Set up the matplotlib figure\n",
    "    f, ax = plt.subplots(figsize=(10, 7))\n",
    "\n",
    "    # Generate a custom diverging colormap\n",
    "    cmap = sns.diverging_palette(220, 10, as_cmap=True)\n",
    "\n",
    "    # Draw the heatmap with the mask and correct aspect ratio\n",
    "    sns.heatmap(corr, mask=mask, cmap=cmap,\n",
    "                square=True, xticklabels=corr.columns.values, \n",
    "                yticklabels=corr.columns.values,\n",
    "                linewidths=.5, cbar_kws={\"shrink\": .5}, ax=ax);\n",
    "\n",
    "    ax.set_title(\"Correlation plot\");"
   ]
  },
  {
   "cell_type": "markdown",
   "metadata": {},
   "source": [
    "# Pitching Analysis"
   ]
  },
  {
   "cell_type": "markdown",
   "metadata": {},
   "source": [
    "I wanted to separate analysis between pitchers and non-pitchers. Let's start with pitchers."
   ]
  },
  {
   "cell_type": "code",
   "execution_count": null,
   "metadata": {
    "ExecuteTime": {
     "end_time": "2016-12-31T14:03:34.622031",
     "start_time": "2016-12-31T14:03:34.584155"
    },
    "collapsed": false
   },
   "outputs": [],
   "source": [
    "pitchers = nominated_players.loc[nominated_players.Position == 'P']\n",
    "\n",
    "pitchers.head()"
   ]
  },
  {
   "cell_type": "markdown",
   "metadata": {},
   "source": [
    "**Number of wins** seems to be most correlated with induction into the Hall of Fame, followed by **number of awards.**"
   ]
  },
  {
   "cell_type": "code",
   "execution_count": null,
   "metadata": {
    "ExecuteTime": {
     "end_time": "2016-12-29T18:24:07.322685",
     "start_time": "2016-12-29T18:24:06.854381"
    },
    "collapsed": false
   },
   "outputs": [],
   "source": [
    "pitchers_corr = pitchers[['G_all', 'ERA', 'W', 'Cy Young Award', 'Awards', 'inducted']].corr()\n",
    "pitchers_corr.columns = ['Games Played', 'ERA', 'Wins', 'Cy Young Award', 'Awards', 'Inducted']\n",
    "\n",
    "display(pitchers_corr)\n",
    "corr_plot(pitchers_corr)"
   ]
  },
  {
   "cell_type": "markdown",
   "metadata": {},
   "source": [
    "# Non-Pitchers"
   ]
  },
  {
   "cell_type": "markdown",
   "metadata": {},
   "source": [
    "For non-pitchers, I merged in hitting statistics and computed the common sabermetric statistics of on-base percentage (OBP), slugging percentage (SLG), and on-base plus slugging (OPS)."
   ]
  },
  {
   "cell_type": "code",
   "execution_count": null,
   "metadata": {
    "ExecuteTime": {
     "end_time": "2016-12-29T18:24:07.848581",
     "start_time": "2016-12-29T18:24:07.336421"
    },
    "collapsed": false
   },
   "outputs": [],
   "source": [
    "# Merge with Batting\n",
    "batting_total = cumulative_stats(\"baseballdatabank-master/core/Batting.csv\", \n",
    "                                  display_head=False)\n",
    "non_pitchers = nominated_players.loc[nominated_players.Position != 'P']\n",
    "non_pitchers = pd.merge(non_pitchers, batting_total, on='playerID')\n",
    "\n",
    "non_pitchers.fillna(0, inplace=True)\n",
    "\n",
    "non_pitchers['BA'] = non_pitchers.H / non_pitchers.AB\n",
    "non_pitchers['SLG'] = slugging_pct(non_pitchers)\n",
    "non_pitchers['OBP'] = on_base_pct(non_pitchers)\n",
    "non_pitchers['OPS'] = on_base_plus_slugging(non_pitchers)\n",
    "\n",
    "non_pitchers.head()"
   ]
  },
  {
   "cell_type": "markdown",
   "metadata": {},
   "source": [
    "The features most correlated with induction into the Hall of Fame are **Runs**, **Awards**, and **Hits.**"
   ]
  },
  {
   "cell_type": "code",
   "execution_count": null,
   "metadata": {
    "ExecuteTime": {
     "end_time": "2016-12-29T18:24:07.856386",
     "start_time": "2016-12-29T18:24:07.850450"
    },
    "collapsed": true
   },
   "outputs": [],
   "source": [
    "def batting_corr_plot(df):\n",
    "    corr = df[['G_all', 'R', 'RBI', 'HR', 'H', 'SB', 'SO', 'BA', 'SLG', 'OBP', 'OPS', 'Awards','inducted']].corr()\n",
    "    corr.columns = ['Games Played', 'Runs', 'Runs Batted In', 'Home Runs', \n",
    "                        'Hits', 'Stolen Bases', 'Strike Outs', 'Batting Average', \n",
    "                        'On-base Percentage', 'Slugging Average', 'On-base Plus Slugging', 'Awards',\n",
    "                        'Inducted']\n",
    "    display(corr)\n",
    "    corr_plot(corr)\n",
    "    \n",
    "    return corr"
   ]
  },
  {
   "cell_type": "code",
   "execution_count": null,
   "metadata": {
    "ExecuteTime": {
     "end_time": "2016-12-29T18:24:08.462680",
     "start_time": "2016-12-29T18:24:07.858439"
    },
    "collapsed": false
   },
   "outputs": [],
   "source": [
    "# batting_corr = non_pitchers[['G_all', 'R', 'RBI', 'HR', 'H', 'SB', 'SO', 'BA', 'SLG', 'OBP', 'OPS', 'Awards','inducted']].corr()\n",
    "# batting_corr.columns = ['Games Played', 'Runs', 'Runs Batted In', 'Home Runs', \n",
    "#                         'Hits', 'Stolen Bases', 'Strike Outs', 'Batting Average', \n",
    "#                         'On-base Percentage', 'Slugging Average', 'On-base Plus Slugging', 'Awards',\n",
    "#                         'Inducted']\n",
    "# display(batting_corr)\n",
    "# corr_plot(batting_corr)\n",
    "\n",
    "_ = batting_corr_plot(non_pitchers)"
   ]
  },
  {
   "cell_type": "code",
   "execution_count": null,
   "metadata": {
    "ExecuteTime": {
     "end_time": "2016-12-29T18:24:08.483731",
     "start_time": "2016-12-29T18:24:08.464715"
    },
    "collapsed": false
   },
   "outputs": [],
   "source": [
    "non_pitchers = pd.merge(non_pitchers, master_df[['playerID', 'finalGame']], on='playerID')\n"
   ]
  },
  {
   "cell_type": "code",
   "execution_count": null,
   "metadata": {
    "ExecuteTime": {
     "end_time": "2016-12-29T18:24:08.498256",
     "start_time": "2016-12-29T18:24:08.486407"
    },
    "collapsed": false
   },
   "outputs": [],
   "source": [
    "non_pitchers['Final Year'] = pd.DatetimeIndex(non_pitchers['finalGame']).year\n",
    "sum((non_pitchers['Final Year'] - 1994) >= 5)"
   ]
  },
  {
   "cell_type": "code",
   "execution_count": null,
   "metadata": {
    "ExecuteTime": {
     "end_time": "2016-12-29T18:24:08.521626",
     "start_time": "2016-12-29T18:24:08.501125"
    },
    "collapsed": false
   },
   "outputs": [],
   "source": [
    "non_steroids_era = non_pitchers.loc[non_pitchers['Final Year'] - 1994 < 5]\n",
    "steroids_era = non_pitchers.loc[non_pitchers['Final Year'] - 1994 >= 5]\n",
    "\n",
    "display(non_steroids_era.shape)\n",
    "display(steroids_era.shape)"
   ]
  },
  {
   "cell_type": "code",
   "execution_count": null,
   "metadata": {
    "ExecuteTime": {
     "end_time": "2016-12-29T18:24:09.186546",
     "start_time": "2016-12-29T18:24:08.525909"
    },
    "collapsed": false
   },
   "outputs": [],
   "source": [
    "non_steroids_corr = batting_corr_plot(non_steroids_era)"
   ]
  },
  {
   "cell_type": "code",
   "execution_count": null,
   "metadata": {
    "ExecuteTime": {
     "end_time": "2016-12-29T18:24:09.790590",
     "start_time": "2016-12-29T18:24:09.188869"
    },
    "collapsed": false
   },
   "outputs": [],
   "source": [
    "steroids_corr = batting_corr_plot(steroids_era)"
   ]
  },
  {
   "cell_type": "code",
   "execution_count": null,
   "metadata": {
    "ExecuteTime": {
     "end_time": "2016-12-29T18:24:09.800391",
     "start_time": "2016-12-29T18:24:09.792491"
    },
    "collapsed": false
   },
   "outputs": [],
   "source": [
    "steroids_corr['Inducted'] - non_steroids_corr['Inducted']"
   ]
  },
  {
   "cell_type": "markdown",
   "metadata": {},
   "source": [
    "# Hitting Correlations by Position\n",
    "Do they vary by position?"
   ]
  },
  {
   "cell_type": "code",
   "execution_count": null,
   "metadata": {
    "ExecuteTime": {
     "end_time": "2016-12-29T18:32:34.318811",
     "start_time": "2016-12-29T18:32:34.311226"
    },
    "collapsed": false
   },
   "outputs": [],
   "source": [
    "non_pitchers.Position.unique()"
   ]
  },
  {
   "cell_type": "code",
   "execution_count": null,
   "metadata": {
    "ExecuteTime": {
     "end_time": "2016-12-29T18:34:41.520934",
     "start_time": "2016-12-29T18:34:36.614608"
    },
    "collapsed": false
   },
   "outputs": [],
   "source": [
    "positions = ['OF', 'SS', '2B', 'C', '1B', '3B', 'DH', 'PH']\n",
    "\n",
    "for pos in positions:\n",
    "    print(pos)\n",
    "    print(non_pitchers.loc[non_pitchers.Position == pos].shape)\n",
    "    batting_corr_plot(non_pitchers.loc[non_pitchers.Position == pos])"
   ]
  },
  {
   "cell_type": "markdown",
   "metadata": {},
   "source": [
    "# Conclusion\n",
    "For pitchers, cumulative statistics such as wins and number of awards were most correlated with induction into the Hall of Fame. \n",
    "For non-pitchers, runs scored, hits, and awards were the most highly correlated with induction.\n",
    "\n",
    "There are other directions I'd like to go in with this analysis:\n",
    "\n",
    "* Add more player data, including fielding statistics. \n",
    "* Compare players voted in by different methods. Are there differences between players voted in via the Baseball Writers vs. the Veterans Committee?\n",
    "* Compare players from different eras. The modern game is dominated by newer metrics of player performance. Have voters opinions changed as a result of this?"
   ]
  },
  {
   "cell_type": "code",
   "execution_count": null,
   "metadata": {
    "collapsed": true
   },
   "outputs": [],
   "source": []
  }
 ],
 "metadata": {
  "anaconda-cloud": {},
  "kernelspec": {
   "display_name": "Python [conda env:DAND]",
   "language": "python",
   "name": "conda-env-DAND-py"
  },
  "language_info": {
   "codemirror_mode": {
    "name": "ipython",
    "version": 2
   },
   "file_extension": ".py",
   "mimetype": "text/x-python",
   "name": "python",
   "nbconvert_exporter": "python",
   "pygments_lexer": "ipython2",
   "version": "2.7.12"
  }
 },
 "nbformat": 4,
 "nbformat_minor": 2
}
