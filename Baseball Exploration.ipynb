{
 "cells": [
  {
   "cell_type": "markdown",
   "metadata": {},
   "source": [
    "# Brainstorm Questions\n",
    "* What are the characteristics of Hall of Famers?\n",
    "* What separates people who get inducted vs people who were simply nominated?\n",
    "* What are the characteristics of players with the highest salaries? Did these characteristics change with the advent of Moneyball/Sabermetrics?\n",
    "* How do high salary vs HoF differ?\n",
    "* Did people play more positions in the past?"
   ]
  },
  {
   "cell_type": "markdown",
   "metadata": {},
   "source": [
    "## Salary \n",
    "* Players with high salaries are usually on multi-year contracts.\n",
    "* For a given year, a player's current salary is dictated by past performance prior to signing that contract. \n",
    "* Let Year_Start the starting season for a player's contract, Year_End the ending season for a player's contract. Stats accumulated during [Year_Start, Year_End] do not have an effect on their current salary.\n",
    "* A player may be more motivated to play well closer to Year_End.\n",
    "* If looking for features that correlate with salary, best to look at data for years prior to that contract signing."
   ]
  },
  {
   "cell_type": "markdown",
   "metadata": {},
   "source": [
    "## Hall of Fame \n",
    "* I guess that the Hall of Fame will reward players with high-performance over a long period of time.\n",
    "* The Hall of Fame currently describes baseball as having four eras:\n",
    "  * Today's Game (1988–present)\n",
    "  * Modern Baseball (1970–1987)\n",
    "  * Golden Days (1950–1969)\n",
    "  * Early Baseball (1871–1949)\n",
    "* The characteristics for being a Hall of Famer may differ between these eras.\n",
    "* Some players will have careers that span different eras.\n",
    "* Players are currently inducted into the Hall through election either by the Baseball Writers' Association of America (BBWAA), or the Veterans Committee, which now consists of four subcommittees. Each of those subcommittees focus on a specific era of baseball (outlined above).\n",
    "* The Veterans Committee provides a path to enshirement for players who are no longer eligible for consideration by the BBWAA.\n",
    "* Each player needs to have played at least 10 seasons.\n",
    "* There are 247 inducted players.\n",
    "* There are 941 non-inducted players in the dataset.\n",
    "\n",
    "### VotedBy\n",
    "* In the dataset, votedBy Old Timers refers to the Old-Timers Committee. This was the original Veterans Committee, formed by Commissioner Landis to put players from the 19th century in the Hall of Fame.\n",
    "* By 1953, the Old-Timers Committee hadn't met for seven years, so a Committee on Baseball Veterans was formed. This is what votedBy Veterans means.\n",
    "* Run off elections occur when the initial voting by the BBWAA doesn't produce a winner. This is what votedBy Run Off means.\n",
    "* There is a special committee to consider players who played in the Negro League. This is what votedBy Negro League means.\n",
    "* My methodology for figuring this out: Wikipedia article on Baseball Hall of Fame and Veterans Committee, then looking at players in each category and reading their Wikipedia bios.\n",
    "\n",
    "## What Separates Good to Great?\n",
    "* Number of games played, longevity.\n",
    "\n",
    "Guesses:\n",
    "* All-Star Appearances\n",
    "* World Series Championships\n",
    "* MVPs\n",
    "* Hitters: Batting Average, OBP\n",
    "* Pitchers: ERA, Wins\n",
    "* Closers: Saves (Only 5 relief pitchers in the Hall, so not worth looking at)\n",
    "\n",
    "Next steps:\n",
    "* Awards\n",
    "* Break down by eras\n",
    "* Break down by BBWAA vs not?"
   ]
  },
  {
   "cell_type": "markdown",
   "metadata": {},
   "source": [
    "### Who are all the Hall of Fame Players?\n",
    "There is a table called HallOfFame. Join that with Master to get the names"
   ]
  },
  {
   "cell_type": "code",
   "execution_count": 390,
   "metadata": {
    "ExecuteTime": {
     "end_time": "2016-12-28T16:31:58.047731",
     "start_time": "2016-12-28T16:31:58.020310"
    },
    "collapsed": false
   },
   "outputs": [
    {
     "name": "stdout",
     "output_type": "stream",
     "text": [
      "Populating the interactive namespace from numpy and matplotlib\n"
     ]
    },
    {
     "name": "stderr",
     "output_type": "stream",
     "text": [
      "/Users/hkwik/anaconda/envs/DAND/lib/python2.7/site-packages/IPython/core/magics/pylab.py:161: UserWarning: pylab import has clobbered these variables: ['f']\n",
      "`%matplotlib` prevents importing * from pylab and numpy\n",
      "  \"\\n`%matplotlib` prevents importing * from pylab and numpy\"\n"
     ]
    }
   ],
   "source": [
    "import pandas as pd\n",
    "import numpy as np\n",
    "import seaborn as sns\n",
    "\n",
    "from IPython.display import display\n",
    "\n",
    "%pylab inline\n",
    "pd.set_option('display.max_columns', None)"
   ]
  },
  {
   "cell_type": "code",
   "execution_count": 391,
   "metadata": {
    "ExecuteTime": {
     "end_time": "2016-12-28T16:31:58.256984",
     "start_time": "2016-12-28T16:31:58.051288"
    },
    "collapsed": false
   },
   "outputs": [
    {
     "data": {
      "text/html": [
       "<div>\n",
       "<table border=\"1\" class=\"dataframe\">\n",
       "  <thead>\n",
       "    <tr style=\"text-align: right;\">\n",
       "      <th></th>\n",
       "      <th>playerID</th>\n",
       "      <th>yearid</th>\n",
       "      <th>votedBy</th>\n",
       "      <th>ballots</th>\n",
       "      <th>needed</th>\n",
       "      <th>votes</th>\n",
       "      <th>inducted</th>\n",
       "      <th>category</th>\n",
       "      <th>needed_note</th>\n",
       "      <th>nameLast</th>\n",
       "      <th>nameFirst</th>\n",
       "    </tr>\n",
       "  </thead>\n",
       "  <tbody>\n",
       "    <tr>\n",
       "      <th>0</th>\n",
       "      <td>cobbty01</td>\n",
       "      <td>1936</td>\n",
       "      <td>BBWAA</td>\n",
       "      <td>226.0</td>\n",
       "      <td>170.0</td>\n",
       "      <td>222.0</td>\n",
       "      <td>Y</td>\n",
       "      <td>Player</td>\n",
       "      <td>NaN</td>\n",
       "      <td>Cobb</td>\n",
       "      <td>Ty</td>\n",
       "    </tr>\n",
       "    <tr>\n",
       "      <th>1</th>\n",
       "      <td>ruthba01</td>\n",
       "      <td>1936</td>\n",
       "      <td>BBWAA</td>\n",
       "      <td>226.0</td>\n",
       "      <td>170.0</td>\n",
       "      <td>215.0</td>\n",
       "      <td>Y</td>\n",
       "      <td>Player</td>\n",
       "      <td>NaN</td>\n",
       "      <td>Ruth</td>\n",
       "      <td>Babe</td>\n",
       "    </tr>\n",
       "    <tr>\n",
       "      <th>2</th>\n",
       "      <td>wagneho01</td>\n",
       "      <td>1936</td>\n",
       "      <td>BBWAA</td>\n",
       "      <td>226.0</td>\n",
       "      <td>170.0</td>\n",
       "      <td>215.0</td>\n",
       "      <td>Y</td>\n",
       "      <td>Player</td>\n",
       "      <td>NaN</td>\n",
       "      <td>Wagner</td>\n",
       "      <td>Honus</td>\n",
       "    </tr>\n",
       "    <tr>\n",
       "      <th>3</th>\n",
       "      <td>wagneho01</td>\n",
       "      <td>1936</td>\n",
       "      <td>Veterans</td>\n",
       "      <td>78.0</td>\n",
       "      <td>59.0</td>\n",
       "      <td>5.0</td>\n",
       "      <td>N</td>\n",
       "      <td>Player</td>\n",
       "      <td>NaN</td>\n",
       "      <td>Wagner</td>\n",
       "      <td>Honus</td>\n",
       "    </tr>\n",
       "    <tr>\n",
       "      <th>4</th>\n",
       "      <td>mathech01</td>\n",
       "      <td>1936</td>\n",
       "      <td>BBWAA</td>\n",
       "      <td>226.0</td>\n",
       "      <td>170.0</td>\n",
       "      <td>205.0</td>\n",
       "      <td>Y</td>\n",
       "      <td>Player</td>\n",
       "      <td>NaN</td>\n",
       "      <td>Mathewson</td>\n",
       "      <td>Christy</td>\n",
       "    </tr>\n",
       "  </tbody>\n",
       "</table>\n",
       "</div>"
      ],
      "text/plain": [
       "    playerID  yearid   votedBy  ballots  needed  votes inducted category  \\\n",
       "0   cobbty01    1936     BBWAA    226.0   170.0  222.0        Y   Player   \n",
       "1   ruthba01    1936     BBWAA    226.0   170.0  215.0        Y   Player   \n",
       "2  wagneho01    1936     BBWAA    226.0   170.0  215.0        Y   Player   \n",
       "3  wagneho01    1936  Veterans     78.0    59.0    5.0        N   Player   \n",
       "4  mathech01    1936     BBWAA    226.0   170.0  205.0        Y   Player   \n",
       "\n",
       "  needed_note   nameLast nameFirst  \n",
       "0         NaN       Cobb        Ty  \n",
       "1         NaN       Ruth      Babe  \n",
       "2         NaN     Wagner     Honus  \n",
       "3         NaN     Wagner     Honus  \n",
       "4         NaN  Mathewson   Christy  "
      ]
     },
     "execution_count": 391,
     "metadata": {},
     "output_type": "execute_result"
    }
   ],
   "source": [
    "hof_df = pd.read_csv('baseballdatabank-master/core/HallOfFame.csv')\n",
    "master_df = pd.read_csv('baseballdatabank-master/core/Master.csv')\n",
    "\n",
    "hof_cols = list(hof_df.columns)\n",
    "hof_cols.extend(['nameLast', 'nameFirst'])\n",
    "\n",
    "hof_df = hof_df.merge(master_df, on='playerID')\n",
    "hof_df = hof_df[hof_cols]\n",
    "\n",
    "hof_df.head()"
   ]
  },
  {
   "cell_type": "code",
   "execution_count": 392,
   "metadata": {
    "ExecuteTime": {
     "end_time": "2016-12-28T16:31:58.272345",
     "start_time": "2016-12-28T16:31:58.259304"
    },
    "collapsed": true
   },
   "outputs": [],
   "source": [
    "players = hof_df.loc[(hof_df.category == 'Player')]\n",
    "inducted_players = hof_df.loc[(hof_df.inducted == 'Y') & (hof_df.category == 'Player')]"
   ]
  },
  {
   "cell_type": "markdown",
   "metadata": {},
   "source": [
    "## Inducted vs. Non-Inducted Players"
   ]
  },
  {
   "cell_type": "code",
   "execution_count": 395,
   "metadata": {
    "ExecuteTime": {
     "end_time": "2016-12-28T16:31:59.193581",
     "start_time": "2016-12-28T16:31:59.055685"
    },
    "collapsed": false
   },
   "outputs": [
    {
     "data": {
      "text/plain": [
       "(247, 11)"
      ]
     },
     "metadata": {},
     "output_type": "display_data"
    },
    {
     "data": {
      "text/html": [
       "<div>\n",
       "<table border=\"1\" class=\"dataframe\">\n",
       "  <thead>\n",
       "    <tr style=\"text-align: right;\">\n",
       "      <th></th>\n",
       "      <th>playerID</th>\n",
       "      <th>yearid</th>\n",
       "      <th>votedBy</th>\n",
       "      <th>ballots</th>\n",
       "      <th>needed</th>\n",
       "      <th>votes</th>\n",
       "      <th>inducted</th>\n",
       "      <th>category</th>\n",
       "      <th>needed_note</th>\n",
       "      <th>nameLast</th>\n",
       "      <th>nameFirst</th>\n",
       "    </tr>\n",
       "  </thead>\n",
       "  <tbody>\n",
       "    <tr>\n",
       "      <th>0</th>\n",
       "      <td>cobbty01</td>\n",
       "      <td>1936</td>\n",
       "      <td>BBWAA</td>\n",
       "      <td>226.0</td>\n",
       "      <td>170.0</td>\n",
       "      <td>222.0</td>\n",
       "      <td>Y</td>\n",
       "      <td>Player</td>\n",
       "      <td>NaN</td>\n",
       "      <td>Cobb</td>\n",
       "      <td>Ty</td>\n",
       "    </tr>\n",
       "    <tr>\n",
       "      <th>1</th>\n",
       "      <td>ruthba01</td>\n",
       "      <td>1936</td>\n",
       "      <td>BBWAA</td>\n",
       "      <td>226.0</td>\n",
       "      <td>170.0</td>\n",
       "      <td>215.0</td>\n",
       "      <td>Y</td>\n",
       "      <td>Player</td>\n",
       "      <td>NaN</td>\n",
       "      <td>Ruth</td>\n",
       "      <td>Babe</td>\n",
       "    </tr>\n",
       "    <tr>\n",
       "      <th>2</th>\n",
       "      <td>wagneho01</td>\n",
       "      <td>1936</td>\n",
       "      <td>BBWAA</td>\n",
       "      <td>226.0</td>\n",
       "      <td>170.0</td>\n",
       "      <td>215.0</td>\n",
       "      <td>Y</td>\n",
       "      <td>Player</td>\n",
       "      <td>NaN</td>\n",
       "      <td>Wagner</td>\n",
       "      <td>Honus</td>\n",
       "    </tr>\n",
       "    <tr>\n",
       "      <th>4</th>\n",
       "      <td>mathech01</td>\n",
       "      <td>1936</td>\n",
       "      <td>BBWAA</td>\n",
       "      <td>226.0</td>\n",
       "      <td>170.0</td>\n",
       "      <td>205.0</td>\n",
       "      <td>Y</td>\n",
       "      <td>Player</td>\n",
       "      <td>NaN</td>\n",
       "      <td>Mathewson</td>\n",
       "      <td>Christy</td>\n",
       "    </tr>\n",
       "    <tr>\n",
       "      <th>5</th>\n",
       "      <td>johnswa01</td>\n",
       "      <td>1936</td>\n",
       "      <td>BBWAA</td>\n",
       "      <td>226.0</td>\n",
       "      <td>170.0</td>\n",
       "      <td>189.0</td>\n",
       "      <td>Y</td>\n",
       "      <td>Player</td>\n",
       "      <td>NaN</td>\n",
       "      <td>Johnson</td>\n",
       "      <td>Walter</td>\n",
       "    </tr>\n",
       "  </tbody>\n",
       "</table>\n",
       "</div>"
      ],
      "text/plain": [
       "    playerID  yearid votedBy  ballots  needed  votes inducted category  \\\n",
       "0   cobbty01    1936   BBWAA    226.0   170.0  222.0        Y   Player   \n",
       "1   ruthba01    1936   BBWAA    226.0   170.0  215.0        Y   Player   \n",
       "2  wagneho01    1936   BBWAA    226.0   170.0  215.0        Y   Player   \n",
       "4  mathech01    1936   BBWAA    226.0   170.0  205.0        Y   Player   \n",
       "5  johnswa01    1936   BBWAA    226.0   170.0  189.0        Y   Player   \n",
       "\n",
       "  needed_note   nameLast nameFirst  \n",
       "0         NaN       Cobb        Ty  \n",
       "1         NaN       Ruth      Babe  \n",
       "2         NaN     Wagner     Honus  \n",
       "4         NaN  Mathewson   Christy  \n",
       "5         NaN    Johnson    Walter  "
      ]
     },
     "execution_count": 395,
     "metadata": {},
     "output_type": "execute_result"
    }
   ],
   "source": [
    "display(inducted_players.shape)\n",
    "inducted_players.head()"
   ]
  },
  {
   "cell_type": "code",
   "execution_count": 396,
   "metadata": {
    "ExecuteTime": {
     "end_time": "2016-12-28T16:31:59.355926",
     "start_time": "2016-12-28T16:31:59.197177"
    },
    "collapsed": false
   },
   "outputs": [
    {
     "data": {
      "text/plain": [
       "(941, 11)"
      ]
     },
     "metadata": {},
     "output_type": "display_data"
    },
    {
     "data": {
      "text/html": [
       "<div>\n",
       "<table border=\"1\" class=\"dataframe\">\n",
       "  <thead>\n",
       "    <tr style=\"text-align: right;\">\n",
       "      <th></th>\n",
       "      <th>playerID</th>\n",
       "      <th>yearid</th>\n",
       "      <th>votedBy</th>\n",
       "      <th>ballots</th>\n",
       "      <th>needed</th>\n",
       "      <th>votes</th>\n",
       "      <th>inducted</th>\n",
       "      <th>category</th>\n",
       "      <th>needed_note</th>\n",
       "      <th>nameLast</th>\n",
       "      <th>nameFirst</th>\n",
       "    </tr>\n",
       "  </thead>\n",
       "  <tbody>\n",
       "    <tr>\n",
       "      <th>0</th>\n",
       "      <td>abbotji01</td>\n",
       "      <td>2005</td>\n",
       "      <td>BBWAA</td>\n",
       "      <td>516.0</td>\n",
       "      <td>387.0</td>\n",
       "      <td>13.0</td>\n",
       "      <td>N</td>\n",
       "      <td>Player</td>\n",
       "      <td>NaN</td>\n",
       "      <td>Abbott</td>\n",
       "      <td>Jim</td>\n",
       "    </tr>\n",
       "    <tr>\n",
       "      <th>1</th>\n",
       "      <td>adamsba01</td>\n",
       "      <td>1955</td>\n",
       "      <td>BBWAA</td>\n",
       "      <td>251.0</td>\n",
       "      <td>189.0</td>\n",
       "      <td>24.0</td>\n",
       "      <td>N</td>\n",
       "      <td>Player</td>\n",
       "      <td>Top 20</td>\n",
       "      <td>Adams</td>\n",
       "      <td>Babe</td>\n",
       "    </tr>\n",
       "    <tr>\n",
       "      <th>2</th>\n",
       "      <td>adamsbo03</td>\n",
       "      <td>1966</td>\n",
       "      <td>BBWAA</td>\n",
       "      <td>302.0</td>\n",
       "      <td>227.0</td>\n",
       "      <td>1.0</td>\n",
       "      <td>N</td>\n",
       "      <td>Player</td>\n",
       "      <td>NaN</td>\n",
       "      <td>Adams</td>\n",
       "      <td>Bobby</td>\n",
       "    </tr>\n",
       "    <tr>\n",
       "      <th>3</th>\n",
       "      <td>adamssp01</td>\n",
       "      <td>1960</td>\n",
       "      <td>BBWAA</td>\n",
       "      <td>269.0</td>\n",
       "      <td>202.0</td>\n",
       "      <td>1.0</td>\n",
       "      <td>N</td>\n",
       "      <td>Player</td>\n",
       "      <td>NaN</td>\n",
       "      <td>Adams</td>\n",
       "      <td>Sparky</td>\n",
       "    </tr>\n",
       "    <tr>\n",
       "      <th>4</th>\n",
       "      <td>ageeto01</td>\n",
       "      <td>1979</td>\n",
       "      <td>BBWAA</td>\n",
       "      <td>432.0</td>\n",
       "      <td>324.0</td>\n",
       "      <td>0.0</td>\n",
       "      <td>N</td>\n",
       "      <td>Player</td>\n",
       "      <td>NaN</td>\n",
       "      <td>Agee</td>\n",
       "      <td>Tommie</td>\n",
       "    </tr>\n",
       "  </tbody>\n",
       "</table>\n",
       "</div>"
      ],
      "text/plain": [
       "    playerID  yearid votedBy  ballots  needed  votes inducted category  \\\n",
       "0  abbotji01    2005   BBWAA    516.0   387.0   13.0        N   Player   \n",
       "1  adamsba01    1955   BBWAA    251.0   189.0   24.0        N   Player   \n",
       "2  adamsbo03    1966   BBWAA    302.0   227.0    1.0        N   Player   \n",
       "3  adamssp01    1960   BBWAA    269.0   202.0    1.0        N   Player   \n",
       "4   ageeto01    1979   BBWAA    432.0   324.0    0.0        N   Player   \n",
       "\n",
       "  needed_note nameLast nameFirst  \n",
       "0         NaN   Abbott       Jim  \n",
       "1      Top 20    Adams      Babe  \n",
       "2         NaN    Adams     Bobby  \n",
       "3         NaN    Adams    Sparky  \n",
       "4         NaN     Agee    Tommie  "
      ]
     },
     "execution_count": 396,
     "metadata": {},
     "output_type": "execute_result"
    }
   ],
   "source": [
    "non_inducted_ids = set(players.playerID).difference(inducted_players.playerID)\n",
    "non_inducted_players = players.loc[hof_df.playerID.isin(non_inducted_ids)]\n",
    "\n",
    "non_inducted_players = non_inducted_players.groupby('playerID', as_index=False).last()\n",
    "\n",
    "display(non_inducted_players.shape)\n",
    "non_inducted_players.head()"
   ]
  },
  {
   "cell_type": "code",
   "execution_count": 397,
   "metadata": {
    "ExecuteTime": {
     "end_time": "2016-12-28T16:31:59.714324",
     "start_time": "2016-12-28T16:31:59.359149"
    },
    "collapsed": false
   },
   "outputs": [
    {
     "data": {
      "text/html": [
       "<div>\n",
       "<table border=\"1\" class=\"dataframe\">\n",
       "  <thead>\n",
       "    <tr style=\"text-align: right;\">\n",
       "      <th></th>\n",
       "      <th>yearID</th>\n",
       "      <th>teamID</th>\n",
       "      <th>lgID</th>\n",
       "      <th>playerID</th>\n",
       "      <th>G_all</th>\n",
       "      <th>GS</th>\n",
       "      <th>G_batting</th>\n",
       "      <th>G_defense</th>\n",
       "      <th>G_p</th>\n",
       "      <th>G_c</th>\n",
       "      <th>G_1b</th>\n",
       "      <th>G_2b</th>\n",
       "      <th>G_3b</th>\n",
       "      <th>G_ss</th>\n",
       "      <th>G_lf</th>\n",
       "      <th>G_cf</th>\n",
       "      <th>G_rf</th>\n",
       "      <th>G_of</th>\n",
       "      <th>G_dh</th>\n",
       "      <th>G_ph</th>\n",
       "      <th>G_pr</th>\n",
       "    </tr>\n",
       "  </thead>\n",
       "  <tbody>\n",
       "    <tr>\n",
       "      <th>0</th>\n",
       "      <td>1871</td>\n",
       "      <td>BS1</td>\n",
       "      <td>NaN</td>\n",
       "      <td>barnero01</td>\n",
       "      <td>31.0</td>\n",
       "      <td>NaN</td>\n",
       "      <td>31</td>\n",
       "      <td>31.0</td>\n",
       "      <td>0</td>\n",
       "      <td>0</td>\n",
       "      <td>0</td>\n",
       "      <td>16</td>\n",
       "      <td>0</td>\n",
       "      <td>15</td>\n",
       "      <td>0</td>\n",
       "      <td>0</td>\n",
       "      <td>0</td>\n",
       "      <td>0</td>\n",
       "      <td>NaN</td>\n",
       "      <td>NaN</td>\n",
       "      <td>NaN</td>\n",
       "    </tr>\n",
       "    <tr>\n",
       "      <th>1</th>\n",
       "      <td>1871</td>\n",
       "      <td>BS1</td>\n",
       "      <td>NaN</td>\n",
       "      <td>barrofr01</td>\n",
       "      <td>18.0</td>\n",
       "      <td>NaN</td>\n",
       "      <td>18</td>\n",
       "      <td>18.0</td>\n",
       "      <td>0</td>\n",
       "      <td>0</td>\n",
       "      <td>0</td>\n",
       "      <td>1</td>\n",
       "      <td>0</td>\n",
       "      <td>0</td>\n",
       "      <td>13</td>\n",
       "      <td>0</td>\n",
       "      <td>4</td>\n",
       "      <td>17</td>\n",
       "      <td>NaN</td>\n",
       "      <td>NaN</td>\n",
       "      <td>NaN</td>\n",
       "    </tr>\n",
       "    <tr>\n",
       "      <th>2</th>\n",
       "      <td>1871</td>\n",
       "      <td>BS1</td>\n",
       "      <td>NaN</td>\n",
       "      <td>birdsda01</td>\n",
       "      <td>29.0</td>\n",
       "      <td>NaN</td>\n",
       "      <td>29</td>\n",
       "      <td>29.0</td>\n",
       "      <td>0</td>\n",
       "      <td>7</td>\n",
       "      <td>0</td>\n",
       "      <td>0</td>\n",
       "      <td>0</td>\n",
       "      <td>0</td>\n",
       "      <td>0</td>\n",
       "      <td>0</td>\n",
       "      <td>27</td>\n",
       "      <td>27</td>\n",
       "      <td>NaN</td>\n",
       "      <td>NaN</td>\n",
       "      <td>NaN</td>\n",
       "    </tr>\n",
       "    <tr>\n",
       "      <th>3</th>\n",
       "      <td>1871</td>\n",
       "      <td>BS1</td>\n",
       "      <td>NaN</td>\n",
       "      <td>conefr01</td>\n",
       "      <td>19.0</td>\n",
       "      <td>NaN</td>\n",
       "      <td>19</td>\n",
       "      <td>19.0</td>\n",
       "      <td>0</td>\n",
       "      <td>0</td>\n",
       "      <td>0</td>\n",
       "      <td>0</td>\n",
       "      <td>0</td>\n",
       "      <td>0</td>\n",
       "      <td>18</td>\n",
       "      <td>0</td>\n",
       "      <td>1</td>\n",
       "      <td>18</td>\n",
       "      <td>NaN</td>\n",
       "      <td>NaN</td>\n",
       "      <td>NaN</td>\n",
       "    </tr>\n",
       "    <tr>\n",
       "      <th>4</th>\n",
       "      <td>1871</td>\n",
       "      <td>BS1</td>\n",
       "      <td>NaN</td>\n",
       "      <td>gouldch01</td>\n",
       "      <td>31.0</td>\n",
       "      <td>NaN</td>\n",
       "      <td>31</td>\n",
       "      <td>31.0</td>\n",
       "      <td>0</td>\n",
       "      <td>0</td>\n",
       "      <td>30</td>\n",
       "      <td>0</td>\n",
       "      <td>0</td>\n",
       "      <td>0</td>\n",
       "      <td>0</td>\n",
       "      <td>0</td>\n",
       "      <td>1</td>\n",
       "      <td>1</td>\n",
       "      <td>NaN</td>\n",
       "      <td>NaN</td>\n",
       "      <td>NaN</td>\n",
       "    </tr>\n",
       "  </tbody>\n",
       "</table>\n",
       "</div>"
      ],
      "text/plain": [
       "   yearID teamID lgID   playerID  G_all  GS  G_batting  G_defense  G_p  G_c  \\\n",
       "0    1871    BS1  NaN  barnero01   31.0 NaN         31       31.0    0    0   \n",
       "1    1871    BS1  NaN  barrofr01   18.0 NaN         18       18.0    0    0   \n",
       "2    1871    BS1  NaN  birdsda01   29.0 NaN         29       29.0    0    7   \n",
       "3    1871    BS1  NaN   conefr01   19.0 NaN         19       19.0    0    0   \n",
       "4    1871    BS1  NaN  gouldch01   31.0 NaN         31       31.0    0    0   \n",
       "\n",
       "   G_1b  G_2b  G_3b  G_ss  G_lf  G_cf  G_rf  G_of  G_dh  G_ph  G_pr  \n",
       "0     0    16     0    15     0     0     0     0   NaN   NaN   NaN  \n",
       "1     0     1     0     0    13     0     4    17   NaN   NaN   NaN  \n",
       "2     0     0     0     0     0     0    27    27   NaN   NaN   NaN  \n",
       "3     0     0     0     0    18     0     1    18   NaN   NaN   NaN  \n",
       "4    30     0     0     0     0     0     1     1   NaN   NaN   NaN  "
      ]
     },
     "execution_count": 397,
     "metadata": {},
     "output_type": "execute_result"
    }
   ],
   "source": [
    "appearances = pd.read_csv(\"baseballdatabank-master/core/Appearances.csv\")\n",
    "appearances.head()"
   ]
  },
  {
   "cell_type": "code",
   "execution_count": 398,
   "metadata": {
    "ExecuteTime": {
     "end_time": "2016-12-28T16:31:59.917123",
     "start_time": "2016-12-28T16:31:59.716317"
    },
    "collapsed": false
   },
   "outputs": [
    {
     "data": {
      "text/html": [
       "<div>\n",
       "<table border=\"1\" class=\"dataframe\">\n",
       "  <thead>\n",
       "    <tr style=\"text-align: right;\">\n",
       "      <th></th>\n",
       "      <th>playerID</th>\n",
       "      <th>G_all</th>\n",
       "      <th>GS</th>\n",
       "      <th>G_batting</th>\n",
       "      <th>G_defense</th>\n",
       "      <th>G_p</th>\n",
       "      <th>G_c</th>\n",
       "      <th>G_1b</th>\n",
       "      <th>G_2b</th>\n",
       "      <th>G_3b</th>\n",
       "      <th>G_ss</th>\n",
       "      <th>G_lf</th>\n",
       "      <th>G_cf</th>\n",
       "      <th>G_rf</th>\n",
       "      <th>G_of</th>\n",
       "      <th>G_dh</th>\n",
       "      <th>G_ph</th>\n",
       "      <th>G_pr</th>\n",
       "    </tr>\n",
       "  </thead>\n",
       "  <tbody>\n",
       "    <tr>\n",
       "      <th>0</th>\n",
       "      <td>aardsda01</td>\n",
       "      <td>331.0</td>\n",
       "      <td>0.0</td>\n",
       "      <td>139</td>\n",
       "      <td>331.0</td>\n",
       "      <td>331</td>\n",
       "      <td>0</td>\n",
       "      <td>0</td>\n",
       "      <td>0</td>\n",
       "      <td>0</td>\n",
       "      <td>0</td>\n",
       "      <td>0</td>\n",
       "      <td>0</td>\n",
       "      <td>0</td>\n",
       "      <td>0</td>\n",
       "      <td>0.0</td>\n",
       "      <td>0.0</td>\n",
       "      <td>0.0</td>\n",
       "    </tr>\n",
       "    <tr>\n",
       "      <th>1</th>\n",
       "      <td>aaronha01</td>\n",
       "      <td>3298.0</td>\n",
       "      <td>288.0</td>\n",
       "      <td>3298</td>\n",
       "      <td>3057.0</td>\n",
       "      <td>0</td>\n",
       "      <td>0</td>\n",
       "      <td>210</td>\n",
       "      <td>43</td>\n",
       "      <td>7</td>\n",
       "      <td>0</td>\n",
       "      <td>313</td>\n",
       "      <td>293</td>\n",
       "      <td>2184</td>\n",
       "      <td>2760</td>\n",
       "      <td>196.0</td>\n",
       "      <td>46.0</td>\n",
       "      <td>0.0</td>\n",
       "    </tr>\n",
       "    <tr>\n",
       "      <th>2</th>\n",
       "      <td>aaronto01</td>\n",
       "      <td>437.0</td>\n",
       "      <td>NaN</td>\n",
       "      <td>437</td>\n",
       "      <td>437.0</td>\n",
       "      <td>0</td>\n",
       "      <td>0</td>\n",
       "      <td>232</td>\n",
       "      <td>7</td>\n",
       "      <td>10</td>\n",
       "      <td>0</td>\n",
       "      <td>136</td>\n",
       "      <td>1</td>\n",
       "      <td>2</td>\n",
       "      <td>138</td>\n",
       "      <td>NaN</td>\n",
       "      <td>NaN</td>\n",
       "      <td>NaN</td>\n",
       "    </tr>\n",
       "    <tr>\n",
       "      <th>3</th>\n",
       "      <td>aasedo01</td>\n",
       "      <td>448.0</td>\n",
       "      <td>0.0</td>\n",
       "      <td>81</td>\n",
       "      <td>448.0</td>\n",
       "      <td>448</td>\n",
       "      <td>0</td>\n",
       "      <td>0</td>\n",
       "      <td>0</td>\n",
       "      <td>0</td>\n",
       "      <td>0</td>\n",
       "      <td>0</td>\n",
       "      <td>0</td>\n",
       "      <td>0</td>\n",
       "      <td>0</td>\n",
       "      <td>0.0</td>\n",
       "      <td>0.0</td>\n",
       "      <td>0.0</td>\n",
       "    </tr>\n",
       "    <tr>\n",
       "      <th>4</th>\n",
       "      <td>abadan01</td>\n",
       "      <td>15.0</td>\n",
       "      <td>4.0</td>\n",
       "      <td>15</td>\n",
       "      <td>9.0</td>\n",
       "      <td>0</td>\n",
       "      <td>0</td>\n",
       "      <td>8</td>\n",
       "      <td>0</td>\n",
       "      <td>0</td>\n",
       "      <td>0</td>\n",
       "      <td>0</td>\n",
       "      <td>0</td>\n",
       "      <td>1</td>\n",
       "      <td>1</td>\n",
       "      <td>0.0</td>\n",
       "      <td>7.0</td>\n",
       "      <td>1.0</td>\n",
       "    </tr>\n",
       "  </tbody>\n",
       "</table>\n",
       "</div>"
      ],
      "text/plain": [
       "    playerID   G_all     GS  G_batting  G_defense  G_p  G_c  G_1b  G_2b  G_3b  \\\n",
       "0  aardsda01   331.0    0.0        139      331.0  331    0     0     0     0   \n",
       "1  aaronha01  3298.0  288.0       3298     3057.0    0    0   210    43     7   \n",
       "2  aaronto01   437.0    NaN        437      437.0    0    0   232     7    10   \n",
       "3   aasedo01   448.0    0.0         81      448.0  448    0     0     0     0   \n",
       "4   abadan01    15.0    4.0         15        9.0    0    0     8     0     0   \n",
       "\n",
       "   G_ss  G_lf  G_cf  G_rf  G_of   G_dh  G_ph  G_pr  \n",
       "0     0     0     0     0     0    0.0   0.0   0.0  \n",
       "1     0   313   293  2184  2760  196.0  46.0   0.0  \n",
       "2     0   136     1     2   138    NaN   NaN   NaN  \n",
       "3     0     0     0     0     0    0.0   0.0   0.0  \n",
       "4     0     0     0     1     1    0.0   7.0   1.0  "
      ]
     },
     "execution_count": 398,
     "metadata": {},
     "output_type": "execute_result"
    }
   ],
   "source": [
    "appearances_total = appearances.groupby('playerID', as_index=False).sum()\n",
    "\n",
    "del appearances_total['yearID']\n",
    "appearances_total.head()"
   ]
  },
  {
   "cell_type": "code",
   "execution_count": 399,
   "metadata": {
    "ExecuteTime": {
     "end_time": "2016-12-28T16:32:00.078398",
     "start_time": "2016-12-28T16:31:59.919106"
    },
    "collapsed": false
   },
   "outputs": [
    {
     "data": {
      "text/html": [
       "<div>\n",
       "<table border=\"1\" class=\"dataframe\">\n",
       "  <thead>\n",
       "    <tr style=\"text-align: right;\">\n",
       "      <th></th>\n",
       "      <th>playerID</th>\n",
       "      <th>yearid</th>\n",
       "      <th>votedBy</th>\n",
       "      <th>ballots</th>\n",
       "      <th>needed</th>\n",
       "      <th>votes</th>\n",
       "      <th>inducted</th>\n",
       "      <th>category</th>\n",
       "      <th>needed_note</th>\n",
       "      <th>nameLast</th>\n",
       "      <th>nameFirst</th>\n",
       "      <th>G_all</th>\n",
       "      <th>GS</th>\n",
       "      <th>G_batting</th>\n",
       "      <th>G_defense</th>\n",
       "      <th>G_p</th>\n",
       "      <th>G_c</th>\n",
       "      <th>G_1b</th>\n",
       "      <th>G_2b</th>\n",
       "      <th>G_3b</th>\n",
       "      <th>G_ss</th>\n",
       "      <th>G_lf</th>\n",
       "      <th>G_cf</th>\n",
       "      <th>G_rf</th>\n",
       "      <th>G_of</th>\n",
       "      <th>G_dh</th>\n",
       "      <th>G_ph</th>\n",
       "      <th>G_pr</th>\n",
       "    </tr>\n",
       "  </thead>\n",
       "  <tbody>\n",
       "    <tr>\n",
       "      <th>0</th>\n",
       "      <td>cobbty01</td>\n",
       "      <td>1936</td>\n",
       "      <td>BBWAA</td>\n",
       "      <td>226.0</td>\n",
       "      <td>170.0</td>\n",
       "      <td>222.0</td>\n",
       "      <td>Y</td>\n",
       "      <td>Player</td>\n",
       "      <td>NaN</td>\n",
       "      <td>Cobb</td>\n",
       "      <td>Ty</td>\n",
       "      <td>3034.0</td>\n",
       "      <td>NaN</td>\n",
       "      <td>3034</td>\n",
       "      <td>3034.0</td>\n",
       "      <td>3</td>\n",
       "      <td>0</td>\n",
       "      <td>14</td>\n",
       "      <td>2</td>\n",
       "      <td>1</td>\n",
       "      <td>0</td>\n",
       "      <td>35</td>\n",
       "      <td>2194</td>\n",
       "      <td>706</td>\n",
       "      <td>2934</td>\n",
       "      <td>NaN</td>\n",
       "      <td>NaN</td>\n",
       "      <td>NaN</td>\n",
       "    </tr>\n",
       "    <tr>\n",
       "      <th>1</th>\n",
       "      <td>ruthba01</td>\n",
       "      <td>1936</td>\n",
       "      <td>BBWAA</td>\n",
       "      <td>226.0</td>\n",
       "      <td>170.0</td>\n",
       "      <td>215.0</td>\n",
       "      <td>Y</td>\n",
       "      <td>Player</td>\n",
       "      <td>NaN</td>\n",
       "      <td>Ruth</td>\n",
       "      <td>Babe</td>\n",
       "      <td>2503.0</td>\n",
       "      <td>NaN</td>\n",
       "      <td>2503</td>\n",
       "      <td>2503.0</td>\n",
       "      <td>163</td>\n",
       "      <td>0</td>\n",
       "      <td>32</td>\n",
       "      <td>0</td>\n",
       "      <td>0</td>\n",
       "      <td>0</td>\n",
       "      <td>1057</td>\n",
       "      <td>64</td>\n",
       "      <td>1131</td>\n",
       "      <td>2241</td>\n",
       "      <td>NaN</td>\n",
       "      <td>NaN</td>\n",
       "      <td>NaN</td>\n",
       "    </tr>\n",
       "    <tr>\n",
       "      <th>2</th>\n",
       "      <td>wagneho01</td>\n",
       "      <td>1936</td>\n",
       "      <td>BBWAA</td>\n",
       "      <td>226.0</td>\n",
       "      <td>170.0</td>\n",
       "      <td>215.0</td>\n",
       "      <td>Y</td>\n",
       "      <td>Player</td>\n",
       "      <td>NaN</td>\n",
       "      <td>Wagner</td>\n",
       "      <td>Honus</td>\n",
       "      <td>2794.0</td>\n",
       "      <td>NaN</td>\n",
       "      <td>2794</td>\n",
       "      <td>2794.0</td>\n",
       "      <td>2</td>\n",
       "      <td>0</td>\n",
       "      <td>248</td>\n",
       "      <td>57</td>\n",
       "      <td>210</td>\n",
       "      <td>1887</td>\n",
       "      <td>35</td>\n",
       "      <td>67</td>\n",
       "      <td>272</td>\n",
       "      <td>373</td>\n",
       "      <td>NaN</td>\n",
       "      <td>NaN</td>\n",
       "      <td>NaN</td>\n",
       "    </tr>\n",
       "    <tr>\n",
       "      <th>3</th>\n",
       "      <td>mathech01</td>\n",
       "      <td>1936</td>\n",
       "      <td>BBWAA</td>\n",
       "      <td>226.0</td>\n",
       "      <td>170.0</td>\n",
       "      <td>205.0</td>\n",
       "      <td>Y</td>\n",
       "      <td>Player</td>\n",
       "      <td>NaN</td>\n",
       "      <td>Mathewson</td>\n",
       "      <td>Christy</td>\n",
       "      <td>647.0</td>\n",
       "      <td>NaN</td>\n",
       "      <td>647</td>\n",
       "      <td>647.0</td>\n",
       "      <td>636</td>\n",
       "      <td>0</td>\n",
       "      <td>3</td>\n",
       "      <td>0</td>\n",
       "      <td>0</td>\n",
       "      <td>0</td>\n",
       "      <td>1</td>\n",
       "      <td>0</td>\n",
       "      <td>3</td>\n",
       "      <td>4</td>\n",
       "      <td>NaN</td>\n",
       "      <td>NaN</td>\n",
       "      <td>NaN</td>\n",
       "    </tr>\n",
       "    <tr>\n",
       "      <th>4</th>\n",
       "      <td>johnswa01</td>\n",
       "      <td>1936</td>\n",
       "      <td>BBWAA</td>\n",
       "      <td>226.0</td>\n",
       "      <td>170.0</td>\n",
       "      <td>189.0</td>\n",
       "      <td>Y</td>\n",
       "      <td>Player</td>\n",
       "      <td>NaN</td>\n",
       "      <td>Johnson</td>\n",
       "      <td>Walter</td>\n",
       "      <td>934.0</td>\n",
       "      <td>NaN</td>\n",
       "      <td>934</td>\n",
       "      <td>934.0</td>\n",
       "      <td>802</td>\n",
       "      <td>0</td>\n",
       "      <td>0</td>\n",
       "      <td>0</td>\n",
       "      <td>0</td>\n",
       "      <td>0</td>\n",
       "      <td>2</td>\n",
       "      <td>7</td>\n",
       "      <td>4</td>\n",
       "      <td>13</td>\n",
       "      <td>NaN</td>\n",
       "      <td>NaN</td>\n",
       "      <td>NaN</td>\n",
       "    </tr>\n",
       "  </tbody>\n",
       "</table>\n",
       "</div>"
      ],
      "text/plain": [
       "    playerID  yearid votedBy  ballots  needed  votes inducted category  \\\n",
       "0   cobbty01    1936   BBWAA    226.0   170.0  222.0        Y   Player   \n",
       "1   ruthba01    1936   BBWAA    226.0   170.0  215.0        Y   Player   \n",
       "2  wagneho01    1936   BBWAA    226.0   170.0  215.0        Y   Player   \n",
       "3  mathech01    1936   BBWAA    226.0   170.0  205.0        Y   Player   \n",
       "4  johnswa01    1936   BBWAA    226.0   170.0  189.0        Y   Player   \n",
       "\n",
       "  needed_note   nameLast nameFirst   G_all  GS  G_batting  G_defense  G_p  \\\n",
       "0         NaN       Cobb        Ty  3034.0 NaN       3034     3034.0    3   \n",
       "1         NaN       Ruth      Babe  2503.0 NaN       2503     2503.0  163   \n",
       "2         NaN     Wagner     Honus  2794.0 NaN       2794     2794.0    2   \n",
       "3         NaN  Mathewson   Christy   647.0 NaN        647      647.0  636   \n",
       "4         NaN    Johnson    Walter   934.0 NaN        934      934.0  802   \n",
       "\n",
       "   G_c  G_1b  G_2b  G_3b  G_ss  G_lf  G_cf  G_rf  G_of  G_dh  G_ph  G_pr  \n",
       "0    0    14     2     1     0    35  2194   706  2934   NaN   NaN   NaN  \n",
       "1    0    32     0     0     0  1057    64  1131  2241   NaN   NaN   NaN  \n",
       "2    0   248    57   210  1887    35    67   272   373   NaN   NaN   NaN  \n",
       "3    0     3     0     0     0     1     0     3     4   NaN   NaN   NaN  \n",
       "4    0     0     0     0     0     2     7     4    13   NaN   NaN   NaN  "
      ]
     },
     "execution_count": 399,
     "metadata": {},
     "output_type": "execute_result"
    }
   ],
   "source": [
    "inducted_players = pd.merge(inducted_players, appearances_total, on='playerID')\n",
    "inducted_players.head()"
   ]
  },
  {
   "cell_type": "code",
   "execution_count": 400,
   "metadata": {
    "ExecuteTime": {
     "end_time": "2016-12-28T16:32:00.232963",
     "start_time": "2016-12-28T16:32:00.080127"
    },
    "collapsed": false
   },
   "outputs": [
    {
     "data": {
      "text/html": [
       "<div>\n",
       "<table border=\"1\" class=\"dataframe\">\n",
       "  <thead>\n",
       "    <tr style=\"text-align: right;\">\n",
       "      <th></th>\n",
       "      <th>playerID</th>\n",
       "      <th>yearid</th>\n",
       "      <th>votedBy</th>\n",
       "      <th>ballots</th>\n",
       "      <th>needed</th>\n",
       "      <th>votes</th>\n",
       "      <th>inducted</th>\n",
       "      <th>category</th>\n",
       "      <th>needed_note</th>\n",
       "      <th>nameLast</th>\n",
       "      <th>nameFirst</th>\n",
       "      <th>G_all</th>\n",
       "      <th>GS</th>\n",
       "      <th>G_batting</th>\n",
       "      <th>G_defense</th>\n",
       "      <th>G_p</th>\n",
       "      <th>G_c</th>\n",
       "      <th>G_1b</th>\n",
       "      <th>G_2b</th>\n",
       "      <th>G_3b</th>\n",
       "      <th>G_ss</th>\n",
       "      <th>G_lf</th>\n",
       "      <th>G_cf</th>\n",
       "      <th>G_rf</th>\n",
       "      <th>G_of</th>\n",
       "      <th>G_dh</th>\n",
       "      <th>G_ph</th>\n",
       "      <th>G_pr</th>\n",
       "    </tr>\n",
       "  </thead>\n",
       "  <tbody>\n",
       "    <tr>\n",
       "      <th>0</th>\n",
       "      <td>abbotji01</td>\n",
       "      <td>2005</td>\n",
       "      <td>BBWAA</td>\n",
       "      <td>516.0</td>\n",
       "      <td>387.0</td>\n",
       "      <td>13.0</td>\n",
       "      <td>N</td>\n",
       "      <td>Player</td>\n",
       "      <td>NaN</td>\n",
       "      <td>Abbott</td>\n",
       "      <td>Jim</td>\n",
       "      <td>263.0</td>\n",
       "      <td>13.0</td>\n",
       "      <td>18</td>\n",
       "      <td>263.0</td>\n",
       "      <td>263</td>\n",
       "      <td>0</td>\n",
       "      <td>0</td>\n",
       "      <td>0</td>\n",
       "      <td>0</td>\n",
       "      <td>0</td>\n",
       "      <td>0</td>\n",
       "      <td>0</td>\n",
       "      <td>0</td>\n",
       "      <td>0</td>\n",
       "      <td>0.0</td>\n",
       "      <td>0.0</td>\n",
       "      <td>0.0</td>\n",
       "    </tr>\n",
       "    <tr>\n",
       "      <th>1</th>\n",
       "      <td>adamsba01</td>\n",
       "      <td>1955</td>\n",
       "      <td>BBWAA</td>\n",
       "      <td>251.0</td>\n",
       "      <td>189.0</td>\n",
       "      <td>24.0</td>\n",
       "      <td>N</td>\n",
       "      <td>Player</td>\n",
       "      <td>Top 20</td>\n",
       "      <td>Adams</td>\n",
       "      <td>Babe</td>\n",
       "      <td>482.0</td>\n",
       "      <td>NaN</td>\n",
       "      <td>482</td>\n",
       "      <td>482.0</td>\n",
       "      <td>482</td>\n",
       "      <td>0</td>\n",
       "      <td>0</td>\n",
       "      <td>0</td>\n",
       "      <td>0</td>\n",
       "      <td>0</td>\n",
       "      <td>0</td>\n",
       "      <td>0</td>\n",
       "      <td>0</td>\n",
       "      <td>0</td>\n",
       "      <td>NaN</td>\n",
       "      <td>NaN</td>\n",
       "      <td>NaN</td>\n",
       "    </tr>\n",
       "    <tr>\n",
       "      <th>2</th>\n",
       "      <td>adamsbo03</td>\n",
       "      <td>1966</td>\n",
       "      <td>BBWAA</td>\n",
       "      <td>302.0</td>\n",
       "      <td>227.0</td>\n",
       "      <td>1.0</td>\n",
       "      <td>N</td>\n",
       "      <td>Player</td>\n",
       "      <td>NaN</td>\n",
       "      <td>Adams</td>\n",
       "      <td>Bobby</td>\n",
       "      <td>1281.0</td>\n",
       "      <td>NaN</td>\n",
       "      <td>1281</td>\n",
       "      <td>1281.0</td>\n",
       "      <td>0</td>\n",
       "      <td>0</td>\n",
       "      <td>12</td>\n",
       "      <td>399</td>\n",
       "      <td>652</td>\n",
       "      <td>0</td>\n",
       "      <td>0</td>\n",
       "      <td>0</td>\n",
       "      <td>3</td>\n",
       "      <td>3</td>\n",
       "      <td>NaN</td>\n",
       "      <td>NaN</td>\n",
       "      <td>NaN</td>\n",
       "    </tr>\n",
       "    <tr>\n",
       "      <th>3</th>\n",
       "      <td>adamssp01</td>\n",
       "      <td>1960</td>\n",
       "      <td>BBWAA</td>\n",
       "      <td>269.0</td>\n",
       "      <td>202.0</td>\n",
       "      <td>1.0</td>\n",
       "      <td>N</td>\n",
       "      <td>Player</td>\n",
       "      <td>NaN</td>\n",
       "      <td>Adams</td>\n",
       "      <td>Sparky</td>\n",
       "      <td>1424.0</td>\n",
       "      <td>NaN</td>\n",
       "      <td>1424</td>\n",
       "      <td>1424.0</td>\n",
       "      <td>0</td>\n",
       "      <td>0</td>\n",
       "      <td>0</td>\n",
       "      <td>551</td>\n",
       "      <td>532</td>\n",
       "      <td>297</td>\n",
       "      <td>2</td>\n",
       "      <td>0</td>\n",
       "      <td>2</td>\n",
       "      <td>4</td>\n",
       "      <td>NaN</td>\n",
       "      <td>NaN</td>\n",
       "      <td>NaN</td>\n",
       "    </tr>\n",
       "    <tr>\n",
       "      <th>4</th>\n",
       "      <td>ageeto01</td>\n",
       "      <td>1979</td>\n",
       "      <td>BBWAA</td>\n",
       "      <td>432.0</td>\n",
       "      <td>324.0</td>\n",
       "      <td>0.0</td>\n",
       "      <td>N</td>\n",
       "      <td>Player</td>\n",
       "      <td>NaN</td>\n",
       "      <td>Agee</td>\n",
       "      <td>Tommie</td>\n",
       "      <td>1129.0</td>\n",
       "      <td>NaN</td>\n",
       "      <td>1129</td>\n",
       "      <td>1129.0</td>\n",
       "      <td>0</td>\n",
       "      <td>0</td>\n",
       "      <td>0</td>\n",
       "      <td>0</td>\n",
       "      <td>0</td>\n",
       "      <td>0</td>\n",
       "      <td>64</td>\n",
       "      <td>934</td>\n",
       "      <td>124</td>\n",
       "      <td>1073</td>\n",
       "      <td>NaN</td>\n",
       "      <td>NaN</td>\n",
       "      <td>NaN</td>\n",
       "    </tr>\n",
       "  </tbody>\n",
       "</table>\n",
       "</div>"
      ],
      "text/plain": [
       "    playerID  yearid votedBy  ballots  needed  votes inducted category  \\\n",
       "0  abbotji01    2005   BBWAA    516.0   387.0   13.0        N   Player   \n",
       "1  adamsba01    1955   BBWAA    251.0   189.0   24.0        N   Player   \n",
       "2  adamsbo03    1966   BBWAA    302.0   227.0    1.0        N   Player   \n",
       "3  adamssp01    1960   BBWAA    269.0   202.0    1.0        N   Player   \n",
       "4   ageeto01    1979   BBWAA    432.0   324.0    0.0        N   Player   \n",
       "\n",
       "  needed_note nameLast nameFirst   G_all    GS  G_batting  G_defense  G_p  \\\n",
       "0         NaN   Abbott       Jim   263.0  13.0         18      263.0  263   \n",
       "1      Top 20    Adams      Babe   482.0   NaN        482      482.0  482   \n",
       "2         NaN    Adams     Bobby  1281.0   NaN       1281     1281.0    0   \n",
       "3         NaN    Adams    Sparky  1424.0   NaN       1424     1424.0    0   \n",
       "4         NaN     Agee    Tommie  1129.0   NaN       1129     1129.0    0   \n",
       "\n",
       "   G_c  G_1b  G_2b  G_3b  G_ss  G_lf  G_cf  G_rf  G_of  G_dh  G_ph  G_pr  \n",
       "0    0     0     0     0     0     0     0     0     0   0.0   0.0   0.0  \n",
       "1    0     0     0     0     0     0     0     0     0   NaN   NaN   NaN  \n",
       "2    0    12   399   652     0     0     0     3     3   NaN   NaN   NaN  \n",
       "3    0     0   551   532   297     2     0     2     4   NaN   NaN   NaN  \n",
       "4    0     0     0     0     0    64   934   124  1073   NaN   NaN   NaN  "
      ]
     },
     "execution_count": 400,
     "metadata": {},
     "output_type": "execute_result"
    }
   ],
   "source": [
    "non_inducted_players = pd.merge(non_inducted_players, appearances_total, on='playerID')\n",
    "non_inducted_players.head()"
   ]
  },
  {
   "cell_type": "code",
   "execution_count": 401,
   "metadata": {
    "ExecuteTime": {
     "end_time": "2016-12-28T16:32:00.244650",
     "start_time": "2016-12-28T16:32:00.235307"
    },
    "collapsed": false
   },
   "outputs": [],
   "source": [
    "def plot_total_games(df, title, bins=50):\n",
    "    ax = df['G_all'].hist(bins=bins)\n",
    "    ax.set_xlabel(\"Total games played\")\n",
    "    ax.set_ylabel(\"Count\")\n",
    "    ax.set_title(title)"
   ]
  },
  {
   "cell_type": "code",
   "execution_count": 402,
   "metadata": {
    "ExecuteTime": {
     "end_time": "2016-12-28T16:32:00.921912",
     "start_time": "2016-12-28T16:32:00.261235"
    },
    "collapsed": false
   },
   "outputs": [
    {
     "data": {
      "image/png": "[encoded data removed]",
      "text/plain": [
       "<matplotlib.figure.Figure at 0x11e3e73d0>"
      ]
     },
     "metadata": {},
     "output_type": "display_data"
    }
   ],
   "source": [
    "plot_total_games(inducted_players, \"Inducted Players Total Games Played\")"
   ]
  },
  {
   "cell_type": "code",
   "execution_count": 403,
   "metadata": {
    "ExecuteTime": {
     "end_time": "2016-12-28T16:32:01.418835",
     "start_time": "2016-12-28T16:32:00.924885"
    },
    "collapsed": false
   },
   "outputs": [
    {
     "data": {
      "image/png": "[encoded data removed]",
      "text/plain": [
       "<matplotlib.figure.Figure at 0x11df6cbd0>"
      ]
     },
     "metadata": {},
     "output_type": "display_data"
    }
   ],
   "source": [
    "plot_total_games(non_inducted_players, \"Non-Inducted Players Total Games Played\")"
   ]
  },
  {
   "cell_type": "markdown",
   "metadata": {},
   "source": [
    "* Inducted players may have longer careers\n",
    "* Both distributions look like they could be bimodal. My guess is that this is because pitchers appear in fewer games per season compared to batters.\n",
    "* We should look at these distributions by position."
   ]
  },
  {
   "cell_type": "code",
   "execution_count": 404,
   "metadata": {
    "ExecuteTime": {
     "end_time": "2016-12-28T16:32:01.432815",
     "start_time": "2016-12-28T16:32:01.421102"
    },
    "collapsed": true
   },
   "outputs": [],
   "source": [
    "position_cols = ['G_p',\n",
    " 'G_c',\n",
    " 'G_1b',\n",
    " 'G_2b',\n",
    " 'G_3b',\n",
    " 'G_ss',\n",
    " 'G_lf',\n",
    " 'G_cf',\n",
    " 'G_rf',\n",
    " 'G_of',\n",
    " 'G_dh',\n",
    " 'G_ph',\n",
    " 'G_pr']\n",
    "\n",
    "def most_played_position(df):\n",
    "    return df[position_cols].idxmax(axis=1).str.split('_').str[1].str.upper()"
   ]
  },
  {
   "cell_type": "code",
   "execution_count": 405,
   "metadata": {
    "ExecuteTime": {
     "end_time": "2016-12-28T16:32:01.534241",
     "start_time": "2016-12-28T16:32:01.445902"
    },
    "collapsed": false
   },
   "outputs": [],
   "source": [
    "inducted_players.insert(1, 'Position', most_played_position(inducted_players))\n",
    "non_inducted_players.insert(1, 'Position', most_played_position(non_inducted_players))"
   ]
  },
  {
   "cell_type": "code",
   "execution_count": 406,
   "metadata": {
    "ExecuteTime": {
     "end_time": "2016-12-28T16:32:01.570584",
     "start_time": "2016-12-28T16:32:01.542420"
    },
    "collapsed": false
   },
   "outputs": [
    {
     "data": {
      "text/plain": [
       "['1B', '2B', '3B', 'C', 'DH', 'OF', 'P', 'SS']"
      ]
     },
     "metadata": {},
     "output_type": "display_data"
    },
    {
     "data": {
      "text/plain": [
       "['1B', '2B', '3B', 'C', 'CF', 'DH', 'LF', 'OF', 'P', 'PH', 'SS']"
      ]
     },
     "metadata": {},
     "output_type": "display_data"
    },
    {
     "data": {
      "text/plain": [
       "{'CF', 'LF', 'PH'}"
      ]
     },
     "execution_count": 406,
     "metadata": {},
     "output_type": "execute_result"
    }
   ],
   "source": [
    "inducted_positions = set(inducted_players.Position.unique())\n",
    "non_inducted_positions = set(non_inducted_players.Position.unique())\n",
    "\n",
    "display(sorted(inducted_positions))\n",
    "display(sorted(non_inducted_positions))\n",
    "\n",
    "non_inducted_positions.difference(inducted_positions)"
   ]
  },
  {
   "cell_type": "markdown",
   "metadata": {},
   "source": [
    "Since I used argmax, this doesn't indicate whether an Outfielder primary played Left Field, Center Field, or Right Field. The two players in non_inducted who have CF and LF actually only played games in Center and Left respectively and never played other positions. "
   ]
  },
  {
   "cell_type": "code",
   "execution_count": 407,
   "metadata": {
    "ExecuteTime": {
     "end_time": "2016-12-28T16:32:01.928785",
     "start_time": "2016-12-28T16:32:01.573306"
    },
    "collapsed": false
   },
   "outputs": [
    {
     "data": {
      "text/html": [
       "<div>\n",
       "<table border=\"1\" class=\"dataframe\">\n",
       "  <thead>\n",
       "    <tr style=\"text-align: right;\">\n",
       "      <th></th>\n",
       "      <th>playerID</th>\n",
       "      <th>Position</th>\n",
       "      <th>yearid</th>\n",
       "      <th>votedBy</th>\n",
       "      <th>ballots</th>\n",
       "      <th>needed</th>\n",
       "      <th>votes</th>\n",
       "      <th>inducted</th>\n",
       "      <th>category</th>\n",
       "      <th>needed_note</th>\n",
       "      <th>nameLast</th>\n",
       "      <th>nameFirst</th>\n",
       "      <th>G_all</th>\n",
       "      <th>GS</th>\n",
       "      <th>G_batting</th>\n",
       "      <th>G_defense</th>\n",
       "      <th>G_p</th>\n",
       "      <th>G_c</th>\n",
       "      <th>G_1b</th>\n",
       "      <th>G_2b</th>\n",
       "      <th>G_3b</th>\n",
       "      <th>G_ss</th>\n",
       "      <th>G_lf</th>\n",
       "      <th>G_cf</th>\n",
       "      <th>G_rf</th>\n",
       "      <th>G_of</th>\n",
       "      <th>G_dh</th>\n",
       "      <th>G_ph</th>\n",
       "      <th>G_pr</th>\n",
       "    </tr>\n",
       "  </thead>\n",
       "  <tbody>\n",
       "    <tr>\n",
       "      <th>591</th>\n",
       "      <td>moorete01</td>\n",
       "      <td>CF</td>\n",
       "      <td>1968</td>\n",
       "      <td>BBWAA</td>\n",
       "      <td>283.0</td>\n",
       "      <td>213.0</td>\n",
       "      <td>33.0</td>\n",
       "      <td>N</td>\n",
       "      <td>Player</td>\n",
       "      <td>NaN</td>\n",
       "      <td>Moore</td>\n",
       "      <td>Terry</td>\n",
       "      <td>1298.0</td>\n",
       "      <td>NaN</td>\n",
       "      <td>1298</td>\n",
       "      <td>1298.0</td>\n",
       "      <td>1</td>\n",
       "      <td>0</td>\n",
       "      <td>0</td>\n",
       "      <td>0</td>\n",
       "      <td>7</td>\n",
       "      <td>0</td>\n",
       "      <td>0</td>\n",
       "      <td>1189</td>\n",
       "      <td>1</td>\n",
       "      <td>1189</td>\n",
       "      <td>NaN</td>\n",
       "      <td>NaN</td>\n",
       "      <td>NaN</td>\n",
       "    </tr>\n",
       "  </tbody>\n",
       "</table>\n",
       "</div>"
      ],
      "text/plain": [
       "      playerID Position  yearid votedBy  ballots  needed  votes inducted  \\\n",
       "591  moorete01       CF    1968   BBWAA    283.0   213.0   33.0        N   \n",
       "\n",
       "    category needed_note nameLast nameFirst   G_all  GS  G_batting  G_defense  \\\n",
       "591   Player         NaN    Moore     Terry  1298.0 NaN       1298     1298.0   \n",
       "\n",
       "     G_p  G_c  G_1b  G_2b  G_3b  G_ss  G_lf  G_cf  G_rf  G_of  G_dh  G_ph  \\\n",
       "591    1    0     0     0     7     0     0  1189     1  1189   NaN   NaN   \n",
       "\n",
       "     G_pr  \n",
       "591   NaN  "
      ]
     },
     "metadata": {},
     "output_type": "display_data"
    },
    {
     "data": {
      "text/html": [
       "<div>\n",
       "<table border=\"1\" class=\"dataframe\">\n",
       "  <thead>\n",
       "    <tr style=\"text-align: right;\">\n",
       "      <th></th>\n",
       "      <th>playerID</th>\n",
       "      <th>Position</th>\n",
       "      <th>yearid</th>\n",
       "      <th>votedBy</th>\n",
       "      <th>ballots</th>\n",
       "      <th>needed</th>\n",
       "      <th>votes</th>\n",
       "      <th>inducted</th>\n",
       "      <th>category</th>\n",
       "      <th>needed_note</th>\n",
       "      <th>nameLast</th>\n",
       "      <th>nameFirst</th>\n",
       "      <th>G_all</th>\n",
       "      <th>GS</th>\n",
       "      <th>G_batting</th>\n",
       "      <th>G_defense</th>\n",
       "      <th>G_p</th>\n",
       "      <th>G_c</th>\n",
       "      <th>G_1b</th>\n",
       "      <th>G_2b</th>\n",
       "      <th>G_3b</th>\n",
       "      <th>G_ss</th>\n",
       "      <th>G_lf</th>\n",
       "      <th>G_cf</th>\n",
       "      <th>G_rf</th>\n",
       "      <th>G_of</th>\n",
       "      <th>G_dh</th>\n",
       "      <th>G_ph</th>\n",
       "      <th>G_pr</th>\n",
       "    </tr>\n",
       "  </thead>\n",
       "  <tbody>\n",
       "    <tr>\n",
       "      <th>509</th>\n",
       "      <td>luzingr01</td>\n",
       "      <td>LF</td>\n",
       "      <td>1990</td>\n",
       "      <td>BBWAA</td>\n",
       "      <td>444.0</td>\n",
       "      <td>333.0</td>\n",
       "      <td>1.0</td>\n",
       "      <td>N</td>\n",
       "      <td>Player</td>\n",
       "      <td>NaN</td>\n",
       "      <td>Luzinski</td>\n",
       "      <td>Greg</td>\n",
       "      <td>1821.0</td>\n",
       "      <td>1426.0</td>\n",
       "      <td>1821</td>\n",
       "      <td>1266.0</td>\n",
       "      <td>0</td>\n",
       "      <td>0</td>\n",
       "      <td>35</td>\n",
       "      <td>0</td>\n",
       "      <td>0</td>\n",
       "      <td>0</td>\n",
       "      <td>1221</td>\n",
       "      <td>0</td>\n",
       "      <td>1</td>\n",
       "      <td>1221</td>\n",
       "      <td>509.0</td>\n",
       "      <td>48.0</td>\n",
       "      <td>0.0</td>\n",
       "    </tr>\n",
       "  </tbody>\n",
       "</table>\n",
       "</div>"
      ],
      "text/plain": [
       "      playerID Position  yearid votedBy  ballots  needed  votes inducted  \\\n",
       "509  luzingr01       LF    1990   BBWAA    444.0   333.0    1.0        N   \n",
       "\n",
       "    category needed_note  nameLast nameFirst   G_all      GS  G_batting  \\\n",
       "509   Player         NaN  Luzinski      Greg  1821.0  1426.0       1821   \n",
       "\n",
       "     G_defense  G_p  G_c  G_1b  G_2b  G_3b  G_ss  G_lf  G_cf  G_rf  G_of  \\\n",
       "509     1266.0    0    0    35     0     0     0  1221     0     1  1221   \n",
       "\n",
       "      G_dh  G_ph  G_pr  \n",
       "509  509.0  48.0   0.0  "
      ]
     },
     "metadata": {},
     "output_type": "display_data"
    }
   ],
   "source": [
    "display(non_inducted_players.loc[non_inducted_players.Position == 'CF'])\n",
    "display(non_inducted_players.loc[non_inducted_players.Position == 'LF'])"
   ]
  },
  {
   "cell_type": "markdown",
   "metadata": {},
   "source": [
    "Perhaps there is a bias against pinch hitters."
   ]
  },
  {
   "cell_type": "markdown",
   "metadata": {},
   "source": [
    "### Pitchers\n",
    "On average, pitchers in the Hall appeared in more games."
   ]
  },
  {
   "cell_type": "code",
   "execution_count": 408,
   "metadata": {
    "ExecuteTime": {
     "end_time": "2016-12-28T16:32:02.093143",
     "start_time": "2016-12-28T16:32:01.932201"
    },
    "collapsed": false
   },
   "outputs": [
    {
     "data": {
      "text/html": [
       "<div>\n",
       "<table border=\"1\" class=\"dataframe\">\n",
       "  <thead>\n",
       "    <tr style=\"text-align: right;\">\n",
       "      <th></th>\n",
       "      <th>playerID</th>\n",
       "      <th>Position</th>\n",
       "      <th>yearid</th>\n",
       "      <th>votedBy</th>\n",
       "      <th>ballots</th>\n",
       "      <th>needed</th>\n",
       "      <th>votes</th>\n",
       "      <th>inducted</th>\n",
       "      <th>category</th>\n",
       "      <th>needed_note</th>\n",
       "      <th>nameLast</th>\n",
       "      <th>nameFirst</th>\n",
       "      <th>G_all</th>\n",
       "      <th>GS</th>\n",
       "      <th>G_batting</th>\n",
       "      <th>G_defense</th>\n",
       "      <th>G_p</th>\n",
       "      <th>G_c</th>\n",
       "      <th>G_1b</th>\n",
       "      <th>G_2b</th>\n",
       "      <th>G_3b</th>\n",
       "      <th>G_ss</th>\n",
       "      <th>G_lf</th>\n",
       "      <th>G_cf</th>\n",
       "      <th>G_rf</th>\n",
       "      <th>G_of</th>\n",
       "      <th>G_dh</th>\n",
       "      <th>G_ph</th>\n",
       "      <th>G_pr</th>\n",
       "    </tr>\n",
       "  </thead>\n",
       "  <tbody>\n",
       "    <tr>\n",
       "      <th>186</th>\n",
       "      <td>crowlte01</td>\n",
       "      <td>PH</td>\n",
       "      <td>1989</td>\n",
       "      <td>BBWAA</td>\n",
       "      <td>447.0</td>\n",
       "      <td>336.0</td>\n",
       "      <td>0.0</td>\n",
       "      <td>N</td>\n",
       "      <td>Player</td>\n",
       "      <td>NaN</td>\n",
       "      <td>Crowley</td>\n",
       "      <td>Terry</td>\n",
       "      <td>865.0</td>\n",
       "      <td>171.0</td>\n",
       "      <td>865</td>\n",
       "      <td>324.0</td>\n",
       "      <td>0</td>\n",
       "      <td>0</td>\n",
       "      <td>87</td>\n",
       "      <td>0</td>\n",
       "      <td>0</td>\n",
       "      <td>0</td>\n",
       "      <td>20</td>\n",
       "      <td>0</td>\n",
       "      <td>122</td>\n",
       "      <td>141</td>\n",
       "      <td>125.0</td>\n",
       "      <td>428.0</td>\n",
       "      <td>0.0</td>\n",
       "    </tr>\n",
       "    <tr>\n",
       "      <th>358</th>\n",
       "      <td>harrile01</td>\n",
       "      <td>PH</td>\n",
       "      <td>2011</td>\n",
       "      <td>BBWAA</td>\n",
       "      <td>581.0</td>\n",
       "      <td>436.0</td>\n",
       "      <td>0.0</td>\n",
       "      <td>N</td>\n",
       "      <td>Player</td>\n",
       "      <td>NaN</td>\n",
       "      <td>Harris</td>\n",
       "      <td>Lenny</td>\n",
       "      <td>1903.0</td>\n",
       "      <td>770.0</td>\n",
       "      <td>1903</td>\n",
       "      <td>1131.0</td>\n",
       "      <td>1</td>\n",
       "      <td>0</td>\n",
       "      <td>87</td>\n",
       "      <td>300</td>\n",
       "      <td>485</td>\n",
       "      <td>52</td>\n",
       "      <td>157</td>\n",
       "      <td>3</td>\n",
       "      <td>161</td>\n",
       "      <td>304</td>\n",
       "      <td>9.0</td>\n",
       "      <td>927.0</td>\n",
       "      <td>29.0</td>\n",
       "    </tr>\n",
       "    <tr>\n",
       "      <th>592</th>\n",
       "      <td>moraljo01</td>\n",
       "      <td>PH</td>\n",
       "      <td>1990</td>\n",
       "      <td>BBWAA</td>\n",
       "      <td>444.0</td>\n",
       "      <td>333.0</td>\n",
       "      <td>0.0</td>\n",
       "      <td>N</td>\n",
       "      <td>Player</td>\n",
       "      <td>NaN</td>\n",
       "      <td>Morales</td>\n",
       "      <td>Jose</td>\n",
       "      <td>733.0</td>\n",
       "      <td>218.0</td>\n",
       "      <td>733</td>\n",
       "      <td>112.0</td>\n",
       "      <td>0</td>\n",
       "      <td>30</td>\n",
       "      <td>69</td>\n",
       "      <td>0</td>\n",
       "      <td>0</td>\n",
       "      <td>0</td>\n",
       "      <td>7</td>\n",
       "      <td>0</td>\n",
       "      <td>0</td>\n",
       "      <td>7</td>\n",
       "      <td>158.0</td>\n",
       "      <td>488.0</td>\n",
       "      <td>0.0</td>\n",
       "    </tr>\n",
       "    <tr>\n",
       "      <th>818</th>\n",
       "      <td>summech01</td>\n",
       "      <td>PH</td>\n",
       "      <td>1990</td>\n",
       "      <td>BBWAA</td>\n",
       "      <td>444.0</td>\n",
       "      <td>333.0</td>\n",
       "      <td>0.0</td>\n",
       "      <td>N</td>\n",
       "      <td>Player</td>\n",
       "      <td>NaN</td>\n",
       "      <td>Summers</td>\n",
       "      <td>Champ</td>\n",
       "      <td>698.0</td>\n",
       "      <td>301.0</td>\n",
       "      <td>698</td>\n",
       "      <td>295.0</td>\n",
       "      <td>0</td>\n",
       "      <td>1</td>\n",
       "      <td>33</td>\n",
       "      <td>0</td>\n",
       "      <td>1</td>\n",
       "      <td>0</td>\n",
       "      <td>104</td>\n",
       "      <td>0</td>\n",
       "      <td>161</td>\n",
       "      <td>265</td>\n",
       "      <td>94.0</td>\n",
       "      <td>357.0</td>\n",
       "      <td>2.0</td>\n",
       "    </tr>\n",
       "  </tbody>\n",
       "</table>\n",
       "</div>"
      ],
      "text/plain": [
       "      playerID Position  yearid votedBy  ballots  needed  votes inducted  \\\n",
       "186  crowlte01       PH    1989   BBWAA    447.0   336.0    0.0        N   \n",
       "358  harrile01       PH    2011   BBWAA    581.0   436.0    0.0        N   \n",
       "592  moraljo01       PH    1990   BBWAA    444.0   333.0    0.0        N   \n",
       "818  summech01       PH    1990   BBWAA    444.0   333.0    0.0        N   \n",
       "\n",
       "    category needed_note nameLast nameFirst   G_all     GS  G_batting  \\\n",
       "186   Player         NaN  Crowley     Terry   865.0  171.0        865   \n",
       "358   Player         NaN   Harris     Lenny  1903.0  770.0       1903   \n",
       "592   Player         NaN  Morales      Jose   733.0  218.0        733   \n",
       "818   Player         NaN  Summers     Champ   698.0  301.0        698   \n",
       "\n",
       "     G_defense  G_p  G_c  G_1b  G_2b  G_3b  G_ss  G_lf  G_cf  G_rf  G_of  \\\n",
       "186      324.0    0    0    87     0     0     0    20     0   122   141   \n",
       "358     1131.0    1    0    87   300   485    52   157     3   161   304   \n",
       "592      112.0    0   30    69     0     0     0     7     0     0     7   \n",
       "818      295.0    0    1    33     0     1     0   104     0   161   265   \n",
       "\n",
       "      G_dh   G_ph  G_pr  \n",
       "186  125.0  428.0   0.0  \n",
       "358    9.0  927.0  29.0  \n",
       "592  158.0  488.0   0.0  \n",
       "818   94.0  357.0   2.0  "
      ]
     },
     "metadata": {},
     "output_type": "display_data"
    }
   ],
   "source": [
    "display(non_inducted_players.loc[non_inducted_players.Position == 'PH'])"
   ]
  },
  {
   "cell_type": "code",
   "execution_count": 409,
   "metadata": {
    "ExecuteTime": {
     "end_time": "2016-12-28T16:32:02.515364",
     "start_time": "2016-12-28T16:32:02.096705"
    },
    "collapsed": false
   },
   "outputs": [
    {
     "data": {
      "image/png": "[encoded data removed]",
      "text/plain": [
       "<matplotlib.figure.Figure at 0x11cf7fa50>"
      ]
     },
     "metadata": {},
     "output_type": "display_data"
    }
   ],
   "source": [
    "inducted_pitchers = inducted_players[inducted_players.Position == 'P']\n",
    "plot_total_games(inducted_pitchers, \"Inducted Pitchers\", bins=20)"
   ]
  },
  {
   "cell_type": "code",
   "execution_count": 410,
   "metadata": {
    "ExecuteTime": {
     "end_time": "2016-12-28T16:32:03.142139",
     "start_time": "2016-12-28T16:32:02.519505"
    },
    "collapsed": false
   },
   "outputs": [
    {
     "data": {
      "image/png": "[encoded data removed]",
      "text/plain": [
       "<matplotlib.figure.Figure at 0x11e6f0650>"
      ]
     },
     "metadata": {},
     "output_type": "display_data"
    }
   ],
   "source": [
    "non_inducted_pitchers = non_inducted_players[non_inducted_players.Position == 'P']\n",
    "plot_total_games(non_inducted_pitchers, \"Non-inducted Pitchers\")"
   ]
  },
  {
   "cell_type": "code",
   "execution_count": 411,
   "metadata": {
    "ExecuteTime": {
     "end_time": "2016-12-28T16:32:03.164009",
     "start_time": "2016-12-28T16:32:03.144069"
    },
    "collapsed": false
   },
   "outputs": [
    {
     "data": {
      "text/plain": [
       "count      69.000000\n",
       "mean      623.550725\n",
       "std       174.179044\n",
       "min       179.000000\n",
       "25%       493.000000\n",
       "50%       619.000000\n",
       "75%       709.000000\n",
       "max      1073.000000\n",
       "Name: G_all, dtype: float64"
      ]
     },
     "metadata": {},
     "output_type": "display_data"
    },
    {
     "data": {
      "text/plain": [
       "count     325.000000\n",
       "mean      485.353846\n",
       "std       198.713985\n",
       "min        12.000000\n",
       "25%       346.000000\n",
       "50%       452.000000\n",
       "75%       586.000000\n",
       "max      1252.000000\n",
       "Name: G_all, dtype: float64"
      ]
     },
     "metadata": {},
     "output_type": "display_data"
    }
   ],
   "source": [
    "display(inducted_pitchers['G_all'].describe())\n",
    "display(non_inducted_pitchers['G_all'].describe())"
   ]
  },
  {
   "cell_type": "markdown",
   "metadata": {},
   "source": [
    "### Non Pitchers"
   ]
  },
  {
   "cell_type": "code",
   "execution_count": 412,
   "metadata": {
    "ExecuteTime": {
     "end_time": "2016-12-28T16:32:03.229865",
     "start_time": "2016-12-28T16:32:03.166716"
    },
    "collapsed": true
   },
   "outputs": [],
   "source": [
    "inducted_non_pitchers = inducted_players[inducted_players.Position != 'P']\n",
    "non_inducted_non_pitchers = non_inducted_players[non_inducted_players.Position != 'P']"
   ]
  },
  {
   "cell_type": "code",
   "execution_count": 413,
   "metadata": {
    "ExecuteTime": {
     "end_time": "2016-12-28T16:32:03.837327",
     "start_time": "2016-12-28T16:32:03.247753"
    },
    "collapsed": false
   },
   "outputs": [
    {
     "data": {
      "image/png": "[encoded data removed]",
      "text/plain": [
       "<matplotlib.figure.Figure at 0x1179900d0>"
      ]
     },
     "metadata": {},
     "output_type": "display_data"
    }
   ],
   "source": [
    "plot_total_games(inducted_non_pitchers, \"Inducted Non-Pitchers\", bins=20)"
   ]
  },
  {
   "cell_type": "code",
   "execution_count": 414,
   "metadata": {
    "ExecuteTime": {
     "end_time": "2016-12-28T16:32:04.258825",
     "start_time": "2016-12-28T16:32:03.839165"
    },
    "collapsed": false
   },
   "outputs": [
    {
     "data": {
      "image/png": "[encoded data removed]",
      "text/plain": [
       "<matplotlib.figure.Figure at 0x11ce8f0d0>"
      ]
     },
     "metadata": {},
     "output_type": "display_data"
    }
   ],
   "source": [
    "plot_total_games(non_inducted_non_pitchers, \"Non-Inducted Non-Pitchers\", bins=20)"
   ]
  },
  {
   "cell_type": "code",
   "execution_count": 417,
   "metadata": {
    "ExecuteTime": {
     "end_time": "2016-12-28T16:32:06.153781",
     "start_time": "2016-12-28T16:32:06.131831"
    },
    "collapsed": false
   },
   "outputs": [],
   "source": [
    "nominated_players = inducted_players.append(non_inducted_players, ignore_index=True)\n",
    "\n",
    "def convert_inducted_to_numeric(s):\n",
    "    if s == 'Y':\n",
    "        return 1\n",
    "    else:\n",
    "        return 0\n",
    "    \n",
    "nominated_players['inducted'] = nominated_players['inducted'].apply(convert_inducted_to_numeric)"
   ]
  },
  {
   "cell_type": "code",
   "execution_count": 431,
   "metadata": {
    "ExecuteTime": {
     "end_time": "2016-12-28T16:36:13.918301",
     "start_time": "2016-12-28T16:36:13.482830"
    },
    "collapsed": false
   },
   "outputs": [
    {
     "data": {
      "text/html": [
       "<div>\n",
       "<table border=\"1\" class=\"dataframe\">\n",
       "  <thead>\n",
       "    <tr style=\"text-align: right;\">\n",
       "      <th></th>\n",
       "      <th>Games Played</th>\n",
       "      <th>Inducted</th>\n",
       "    </tr>\n",
       "  </thead>\n",
       "  <tbody>\n",
       "    <tr>\n",
       "      <th>G_all</th>\n",
       "      <td>1.000000</td>\n",
       "      <td>0.256325</td>\n",
       "    </tr>\n",
       "    <tr>\n",
       "      <th>inducted</th>\n",
       "      <td>0.256325</td>\n",
       "      <td>1.000000</td>\n",
       "    </tr>\n",
       "  </tbody>\n",
       "</table>\n",
       "</div>"
      ],
      "text/plain": [
       "          Games Played  Inducted\n",
       "G_all         1.000000  0.256325\n",
       "inducted      0.256325  1.000000"
      ]
     },
     "metadata": {},
     "output_type": "display_data"
    },
    {
     "data": {
      "image/png": "[encoded data removed]",
      "text/plain": [
       "<matplotlib.figure.Figure at 0x11b758dd0>"
      ]
     },
     "metadata": {},
     "output_type": "display_data"
    }
   ],
   "source": [
    "corr = nominated_players[['G_all', 'inducted']].corr()\n",
    "corr.columns = [\"Games Played\", \"Inducted\"]\n",
    "display(corr)\n",
    "\n",
    "# Generate a mask for the upper triangle\n",
    "mask = np.zeros_like(corr, dtype=np.bool)\n",
    "mask[np.triu_indices_from(mask)] = True\n",
    "\n",
    "# Set up the matplotlib figure\n",
    "f, ax = plt.subplots(figsize=(10, 7))\n",
    "\n",
    "# Generate a custom diverging colormap\n",
    "cmap = sns.diverging_palette(220, 10, as_cmap=True)\n",
    "\n",
    "# Draw the heatmap with the mask and correct aspect ratio\n",
    "sns.heatmap(corr, mask=mask, cmap=cmap,\n",
    "            square=True, xticklabels=corr.columns.values, yticklabels=corr.columns.values,\n",
    "            linewidths=.5, cbar_kws={\"shrink\": .5}, ax=ax);\n",
    "\n",
    "ax.set_title(\"Correlation plot\");"
   ]
  },
  {
   "cell_type": "code",
   "execution_count": null,
   "metadata": {
    "collapsed": true
   },
   "outputs": [],
   "source": []
  }
 ],
 "metadata": {
  "anaconda-cloud": {},
  "kernelspec": {
   "display_name": "Python [conda env:DAND]",
   "language": "python",
   "name": "conda-env-DAND-py"
  },
  "language_info": {
   "codemirror_mode": {
    "name": "ipython",
    "version": 2
   },
   "file_extension": ".py",
   "mimetype": "text/x-python",
   "name": "python",
   "nbconvert_exporter": "python",
   "pygments_lexer": "ipython2",
   "version": "2.7.12"
  }
 },
 "nbformat": 4,
 "nbformat_minor": 2
}
